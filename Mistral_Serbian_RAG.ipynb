{
  "cells": [
    {
      "cell_type": "markdown",
      "source": [
        "# Utilizing **RAG** Technique with LLM for Answering Biology Questions in **Serbian Language**"
      ],
      "metadata": {
        "id": "dj3N6fESmWyg"
      }
    },
    {
      "cell_type": "markdown",
      "source": [
        "The aim of this work is to provide Serbian students with quick and easy access to answers for their biology questions through interaction with a large language model.\n",
        "The featured technique is **Retrieval-Augmented Generation (RAG)**, chosen because large language models are not typically trained on Serbian language literature.\n",
        "To enable the LLM to effectively answer users' queries, it is essential to provide it with external knowledge, which is the core of the RAG approach.\n"
      ],
      "metadata": {
        "id": "x4qHwq8xq4qz"
      }
    },
    {
      "cell_type": "markdown",
      "source": [
        "This **[link](https://core.ac.uk/download/pdf/237391838.pdf)** contains a\n",
        "biology file used for the knowledge base."
      ],
      "metadata": {
        "id": "2yAPp_-oNHcf"
      }
    },
    {
      "cell_type": "markdown",
      "source": [
        "The first step is to download and import the necessary libraries."
      ],
      "metadata": {
        "id": "9stEZlxnr9MI"
      }
    },
    {
      "cell_type": "code",
      "execution_count": 1,
      "metadata": {
        "id": "PYffp6gVTTFE"
      },
      "outputs": [],
      "source": [
        "import warnings\n",
        "warnings.filterwarnings('ignore')"
      ]
    },
    {
      "cell_type": "code",
      "execution_count": null,
      "metadata": {
        "id": "-HXVBnr8Tt0y"
      },
      "outputs": [],
      "source": [
        "!pip install bitsandbytes accelerate langchain langchain_community pypdf sentence-transformers faiss-gpu"
      ]
    },
    {
      "cell_type": "markdown",
      "source": [
        "To handle the high memory demands of large language models (LLMs), a helpful strategy is quantization, a technique that was implemented in this project. This involves reducing the precision of model parameters like weights and activations, cutting down the model's memory usage without sacrificing much accuracy. This makes it easier to use LLMs on devices with limited resources."
      ],
      "metadata": {
        "id": "vtdP2un1sk4C"
      }
    },
    {
      "cell_type": "markdown",
      "metadata": {
        "id": "lOKrmWw7SRGK"
      },
      "source": [
        "## **Quantization**\n",
        "\n",
        "---\n",
        "\n"
      ]
    },
    {
      "cell_type": "code",
      "execution_count": 2,
      "metadata": {
        "id": "rOY41hvQsLiv"
      },
      "outputs": [],
      "source": [
        "from transformers import BitsAndBytesConfig\n",
        "from torch import bfloat16\n",
        "\n",
        "nf4_config = BitsAndBytesConfig(\n",
        "   load_in_4bit=True,\n",
        "   bnb_4bit_quant_type=\"nf4\",\n",
        "   bnb_4bit_use_double_quant=True,\n",
        "   bnb_4bit_compute_dtype=bfloat16\n",
        ")"
      ]
    },
    {
      "cell_type": "markdown",
      "metadata": {
        "id": "Yut0liwvSbS6"
      },
      "source": [
        "## **Model and adequate tokenizer**\n",
        "\n",
        "---\n",
        "\n"
      ]
    },
    {
      "cell_type": "markdown",
      "source": [
        "The selected LLM for this project is the fine-tuned Mistral 7B Instruct model  that is tailored to Serbian language."
      ],
      "metadata": {
        "id": "5P--eADwsxTB"
      }
    },
    {
      "cell_type": "markdown",
      "source": [
        "More about used LLM you can find on this [link](https://huggingface.co/MaziyarPanahi/Mistral-7B-Instruct-Aya-101)."
      ],
      "metadata": {
        "id": "ogNUArZjSknd"
      }
    },
    {
      "cell_type": "markdown",
      "source": [
        "To load pre-trained model weights and its tokenizer, this project utilized the AutoTokenizer and AutoModelForCausalLM classes from the Transformers library."
      ],
      "metadata": {
        "id": "4t52s2q9w0O9"
      }
    },
    {
      "cell_type": "code",
      "execution_count": 3,
      "metadata": {
        "colab": {
          "base_uri": "https://localhost:8080/",
          "height": 66,
          "referenced_widgets": [
            "c3f4807791de4c4b8fc46a70eec03217",
            "08a0868655b24619ac87e03421fc4583",
            "79d06861ee40445f8f8eef9bee05da5f",
            "20ce845550064d2eb3abceb95f27041b",
            "304525a4767543aba7d8c2f67fa7b3c6",
            "0edba938a68f477ebf47cb2dc05aa548",
            "51816a490ab8442896935b545da06d00",
            "083833bbf85f4a18a21dbe2806a754c0",
            "ca3ba9422ee24bc39c26525e71ff53eb",
            "42a0f0c6990c45f5be92c8ea2e8dff2a",
            "e92331235d90408cbd060070b93bdd01"
          ]
        },
        "id": "hObCCCjGUNay",
        "outputId": "ec1b013e-b9cf-4353-972e-99d42bfc32a3"
      },
      "outputs": [
        {
          "output_type": "stream",
          "name": "stderr",
          "text": [
            "You set `add_prefix_space`. The tokenizer needs to be converted from the slow tokenizers\n"
          ]
        },
        {
          "output_type": "display_data",
          "data": {
            "text/plain": [
              "Loading checkpoint shards:   0%|          | 0/3 [00:00<?, ?it/s]"
            ],
            "application/vnd.jupyter.widget-view+json": {
              "version_major": 2,
              "version_minor": 0,
              "model_id": "c3f4807791de4c4b8fc46a70eec03217"
            }
          },
          "metadata": {}
        }
      ],
      "source": [
        "from transformers import AutoTokenizer, AutoModelForCausalLM\n",
        "\n",
        "model_id = \"MaziyarPanahi/Mistral-7B-Instruct-Aya-101\"\n",
        "\n",
        "tokenizer = AutoTokenizer.from_pretrained(model_id)\n",
        "model = AutoModelForCausalLM.from_pretrained(\n",
        "    model_id,\n",
        "    device_map=\"cuda\",\n",
        "    quantization_config=nf4_config\n",
        ")"
      ]
    },
    {
      "cell_type": "markdown",
      "metadata": {
        "id": "tjUapTX2aU9R"
      },
      "source": [
        "## **Pipeline**\n",
        "\n",
        "---\n",
        "\n"
      ]
    },
    {
      "cell_type": "markdown",
      "source": [
        "Text generation pipeline is first established using the Hugging Face Transformers library. The pipeline function is used to create the pipeline for text generation, specifying the task as \"text-generation\" and focusing mainly on two parameters:\n",
        "\n",
        "*   temperature\n",
        "*   repetition_penalty\n",
        "\n",
        "Temperature controls the creativity of responses, with lower values ensuring more deterministic outputs. On the other hand, repetition_penalty regulates the likelihood of repetitive responses, where higher values reduce repetition. These adjustments aim to enhance the model's precision.\n",
        "\n"
      ],
      "metadata": {
        "id": "e4xioaF_y7PV"
      }
    },
    {
      "cell_type": "code",
      "execution_count": 4,
      "metadata": {
        "id": "lOr92JNZaRrU",
        "colab": {
          "base_uri": "https://localhost:8080/"
        },
        "outputId": "7369ced6-ad9c-4efc-aeea-35689ab3382d"
      },
      "outputs": [
        {
          "output_type": "stream",
          "name": "stderr",
          "text": [
            "/usr/local/lib/python3.10/dist-packages/langchain_core/_api/deprecation.py:119: LangChainDeprecationWarning: The class `HuggingFacePipeline` was deprecated in LangChain 0.0.37 and will be removed in 0.3. An updated version of the class exists in the from rom langchain-huggingface package and should be used instead. To use it run `pip install -U from rom langchain-huggingface` and import as `from from rom langchain_huggingface import llms import HuggingFacePipeline`.\n",
            "  warn_deprecated(\n"
          ]
        }
      ],
      "source": [
        "from transformers import pipeline\n",
        "from langchain import HuggingFacePipeline\n",
        "\n",
        "hf_pipe = pipeline(task=\"text-generation\",\n",
        "                   model=model,\n",
        "                   tokenizer= tokenizer,\n",
        "                   return_full_text=True,\n",
        "                   temperature=0.1,\n",
        "                   max_new_tokens = 512,\n",
        "                   repetition_penalty=1.2,\n",
        "                   num_return_sequences=1\n",
        "                )\n",
        "\n",
        "mistral_llm = HuggingFacePipeline(pipeline = hf_pipe)"
      ]
    },
    {
      "cell_type": "markdown",
      "source": [
        "Mounting the Google Drive to the Colab environment."
      ],
      "metadata": {
        "id": "VyUKviOn0iuG"
      }
    },
    {
      "cell_type": "code",
      "execution_count": 5,
      "metadata": {
        "colab": {
          "base_uri": "https://localhost:8080/"
        },
        "id": "VkUJXFOvYb1w",
        "outputId": "572c1324-b361-49f1-a212-ef58c3ce46d0"
      },
      "outputs": [
        {
          "output_type": "stream",
          "name": "stdout",
          "text": [
            "Drive already mounted at /content/drive; to attempt to forcibly remount, call drive.mount(\"/content/drive\", force_remount=True).\n"
          ]
        }
      ],
      "source": [
        "from google.colab import drive\n",
        "\n",
        "drive.mount('/content/drive')"
      ]
    },
    {
      "cell_type": "markdown",
      "metadata": {
        "id": "TxxpQDtWSjxL"
      },
      "source": [
        "## **Loading documents**\n",
        "\n",
        "---\n",
        "\n"
      ]
    },
    {
      "cell_type": "markdown",
      "source": [
        "Loading essential biology-related files into Colab to support the task."
      ],
      "metadata": {
        "id": "ajrGzXk10qyH"
      }
    },
    {
      "cell_type": "code",
      "execution_count": 6,
      "metadata": {
        "id": "BUWkghM9YiLO"
      },
      "outputs": [],
      "source": [
        "from langchain.document_loaders import PyPDFLoader, DirectoryLoader\n",
        "\n",
        "document_locations = '/content/drive/MyDrive/rag_serbian/documents'\n",
        "\n",
        "loader = DirectoryLoader(\n",
        "    document_locations,\n",
        "    glob ='*.pdf',\n",
        "    loader_cls = PyPDFLoader\n",
        ")\n",
        "\n",
        "documents = loader.load()"
      ]
    },
    {
      "cell_type": "code",
      "execution_count": 7,
      "metadata": {
        "colab": {
          "base_uri": "https://localhost:8080/"
        },
        "id": "b1gkJH05Y2lL",
        "outputId": "e8a17ffb-c67e-4925-face-f5358811cdbe"
      },
      "outputs": [
        {
          "output_type": "execute_result",
          "data": {
            "text/plain": [
              "16"
            ]
          },
          "metadata": {},
          "execution_count": 7
        }
      ],
      "source": [
        "len(documents)"
      ]
    },
    {
      "cell_type": "markdown",
      "source": [
        "The header page of the document is displayed below."
      ],
      "metadata": {
        "id": "J_oQBTNSRJAY"
      }
    },
    {
      "cell_type": "code",
      "source": [
        "documents[0]"
      ],
      "metadata": {
        "colab": {
          "base_uri": "https://localhost:8080/"
        },
        "id": "vbaNVD22Qc5O",
        "outputId": "68961340-27dc-452f-dcad-91725ca3deb8"
      },
      "execution_count": 8,
      "outputs": [
        {
          "output_type": "execute_result",
          "data": {
            "text/plain": [
              "Document(page_content='357 Arh.farm 2009;59: 357 – 372 Stru čni rad/Professional paper \\n \\n  \\nBiologija i fiziologija starenja \\n \\nBosiljka Ple ćaš, Lada Živkovi ć, Biljana Potparevi ć \\n \\nInstitut za fiziologiju i biologiju, Farmaceutski fakultet Univerziteta u \\nBeogradu, Vojvode Stepe 450, 11221Beograd, Srbija \\n \\n \\n \\n \\n \\n \\nKratak sadržaj \\nStarenje je neizbežno i kako zastupljenost starih osoba u populaciji raste, \\nrazumevanje fizioloških mehanizama uklju čenih u proces normalnog starenja ima sve \\nveći značaj u cilju održavanja kvaliteta života u starosti. Tako đe, očuvanje fizioloških \\nfunkcija ili „zdravlja” starih ljudi smanji će pritisak na zdravstvene sisteme i troškove. U \\novom radu, u svetlu najnovijih nau čnih podataka i hipoteza, s ažeto se razmatraju neka \\nključna pitanja u vezi biologije i fiziologije starenja: šta je starenje i zašto se ono \\ndogađa, kao i mogu ćnosti odlaganja i usporavanja starenja.   \\n \\n \\nKljučne reči: starenje – karakteristike, uzroci, teorije, odlaganje \\n \\n \\n \\n \\n \\n \\nBosiljka.Plecas@pharmacy.bg.ac.rs \\nbrought to you by CORE View metadata, citation and similar papers at core.ac.uk\\nprovided by FarFar - Repository of the Faculty of Pharmacy, University of Belgrade', metadata={'source': '/content/drive/MyDrive/rag_serbian/documents/biologija.pdf', 'page': 0})"
            ]
          },
          "metadata": {},
          "execution_count": 8
        }
      ]
    },
    {
      "cell_type": "markdown",
      "source": [
        "The content of the document's first page is displayed below."
      ],
      "metadata": {
        "id": "LBPJ2IfGQo8L"
      }
    },
    {
      "cell_type": "code",
      "source": [
        "documents[1]"
      ],
      "metadata": {
        "colab": {
          "base_uri": "https://localhost:8080/"
        },
        "id": "IlZ_ThLdQho9",
        "outputId": "6fe85483-b4ec-49a8-8b70-4e52688544b8"
      },
      "execution_count": 9,
      "outputs": [
        {
          "output_type": "execute_result",
          "data": {
            "text/plain": [
              "Document(page_content='358 Uvod \\nEnormno produženje ljudskog život a u nekoliko poslednjih vekova \\nsmatra se jednim od najve ćih dostignu ća naše civilizacije. Od 25 do 30 godina, \\nkoliko su prvi ljudi verovatno živeli, do 1900. godine životni vek je u industrijalizovanim zemljama produžen na  oko 45 do 50 godina, da bi samo sto \\ngodina kasnije u najzdravijoj naciji, japanskoj, o čekivani životni vek iznosio \\noko 80 godina. Pove ćanje dužine života prvenstveno je bilo posledica \\ndrastičnog smanjenja smrtnosti novoro đenčadi, uspešnog le čenja infektivnih \\nbolesti i poboljšanih uslova života. Pr oduženje životnog veka istovremeno je \\npokazalo da je starenje pra ćeno pove ćanom osetljivoš ću organizma prema \\nvelikom broju degenerativnih stanja koja se prema težini kre ću od trivijalnih do \\nfatalnih, i koja smanjuju kvalitet života starih ljudi.    \\nDemografske promene koje su se odigrale u XX veku uslovile su i novi \\nnačin razmišljanja o starenju. Danas ve ćina istraživa ča smatra starost \\nnormalnom, zdravom i čak pozitivnom karakteristikom života čoveka. Sli čno \\nrazvoju i sazrevanju, starenje je pra ćeno brojnim i složenim interakcijama koje \\nsu skrenule pažnju istraživa ča ka fiziološkoj osnovi starenja, kao i genetskim \\nfaktorima i faktorima sredine koji uti ču na funkcionalnu s posobnost na svim \\nnivoima: molekularnom, ćelijskom i organizma ka o celine. Razmatranje \\nstarenja u tom novom svetlu usmereno je ka o čuvanju i ja čanju fiziološke \\nkompetentnosti i uvo đenju odgovaraju ćih intervencija u cilju poboljšanja \\nkvaliteta života starih osoba. Time se ne pori če neumitnost smrti, ve ć se \\nosporavaju nesposobnost, bolest i o čajanje kao obavezni pratioci starosti.  \\nKarakteristike starenja \\nIako je zna čenje pojma starenja opštepozna to, sveobuhvatnu definiciju \\ntog fenomena teško je dati, pre svega zbog toga što je starenje jedan od \\nnajsloženijih bioloških procesa. Najjednosta vnije, starenje može da se definiše \\nkao progresivno narušavanje fizioloških funkcija koje na kraju dovodi do smrti. \\nMada je starenje pra ćeno povećanim mortalitetom, ono nije bolest.  \\nKod čoveka, staroš ću se konvencionalno smatra životno doba koje \\npočinje oko 65. godine i završava se smr ću. Međutim, imaju ći u vidu zna čajnu \\nheterogenost stare populacije i kompleksnos t fizioloških procesa, teško može da \\nse povuče jasna vremenska granica po četka starosti (1). Starenje zapo činje u \\nnepoznatom periodu života zrele osobe i progresivno se odvija na razli čit način \\nkod različitih osoba, zavisno od genetski h i spoljašnjih faktora. \\nStarenje čoveka je udruženo sa širokim sp ektrom fizioloških promena \\nkoje, manje ili više, ograni čavaju normalno funkcionisanje organizma (2,3).    ', metadata={'source': '/content/drive/MyDrive/rag_serbian/documents/biologija.pdf', 'page': 1})"
            ]
          },
          "metadata": {},
          "execution_count": 9
        }
      ]
    },
    {
      "cell_type": "markdown",
      "metadata": {
        "id": "HMqL3VM_Srza"
      },
      "source": [
        "## **Chunking documents**\n",
        "\n",
        "---\n",
        "\n"
      ]
    },
    {
      "cell_type": "markdown",
      "source": [
        "To make the documents more manageable for the LLM, the next step is **chunking** or splitting them into smaller pieces. In this project, the chosen chunk size is 256 tokens, with an overlap of 20 tokens between chunks to ensure that the context and meaning are preserved."
      ],
      "metadata": {
        "id": "e_1QQ6Y4Rvby"
      }
    },
    {
      "cell_type": "markdown",
      "source": [
        "The RecursiveCharacterTextSplitter from the Langchain framework is used for chunking the text."
      ],
      "metadata": {
        "id": "-835XAuER--8"
      }
    },
    {
      "cell_type": "code",
      "execution_count": 10,
      "metadata": {
        "id": "CqzUlFPGY7b-"
      },
      "outputs": [],
      "source": [
        "from langchain.text_splitter import RecursiveCharacterTextSplitter\n",
        "\n",
        "text_spliter = RecursiveCharacterTextSplitter(\n",
        "    chunk_size = 256,\n",
        "    chunk_overlap = 20,\n",
        "    length_function = len,\n",
        "    separators= ['\\n \\n','\\n\\n','\\n', ' ']\n",
        ")\n",
        "\n",
        "document_chunks = text_spliter.split_documents(documents)"
      ]
    },
    {
      "cell_type": "code",
      "execution_count": 11,
      "metadata": {
        "colab": {
          "base_uri": "https://localhost:8080/"
        },
        "id": "Pq6XTUNiZIUo",
        "outputId": "d9f158cd-eeb3-456b-e5b8-25bf09dc6cc7"
      },
      "outputs": [
        {
          "output_type": "execute_result",
          "data": {
            "text/plain": [
              "184"
            ]
          },
          "metadata": {},
          "execution_count": 11
        }
      ],
      "source": [
        "len(document_chunks)"
      ]
    },
    {
      "cell_type": "code",
      "source": [
        "document_chunks[0]"
      ],
      "metadata": {
        "colab": {
          "base_uri": "https://localhost:8080/"
        },
        "id": "8_nWgy5jYq8d",
        "outputId": "d155e966-5e82-4d94-97fb-ffe39f8580cb"
      },
      "execution_count": 12,
      "outputs": [
        {
          "output_type": "execute_result",
          "data": {
            "text/plain": [
              "Document(page_content='357 Arh.farm 2009;59: 357 – 372 Stru čni rad/Professional paper \\n \\n  \\nBiologija i fiziologija starenja \\n \\nBosiljka Ple ćaš, Lada Živkovi ć, Biljana Potparevi ć', metadata={'source': '/content/drive/MyDrive/rag_serbian/documents/biologija.pdf', 'page': 0})"
            ]
          },
          "metadata": {},
          "execution_count": 12
        }
      ]
    },
    {
      "cell_type": "code",
      "source": [
        "document_chunks[1]"
      ],
      "metadata": {
        "colab": {
          "base_uri": "https://localhost:8080/"
        },
        "id": "pQYSte8-YuV_",
        "outputId": "239aca95-4a27-4538-c6ca-5360504009b4"
      },
      "execution_count": 13,
      "outputs": [
        {
          "output_type": "execute_result",
          "data": {
            "text/plain": [
              "Document(page_content='Institut za fiziologiju i biologiju, Farmaceutski fakultet Univerziteta u \\nBeogradu, Vojvode Stepe 450, 11221Beograd, Srbija', metadata={'source': '/content/drive/MyDrive/rag_serbian/documents/biologija.pdf', 'page': 0})"
            ]
          },
          "metadata": {},
          "execution_count": 13
        }
      ]
    },
    {
      "cell_type": "markdown",
      "metadata": {
        "id": "_md0cIUiSygK"
      },
      "source": [
        "## **Transforming document chunks into vector representation**\n",
        "\n",
        "---\n",
        "\n"
      ]
    },
    {
      "cell_type": "markdown",
      "source": [
        "Since all algorithms and computers only recognize and work with numerical representations, the next step is to convert the created document chunks into numerical representations, or vectors."
      ],
      "metadata": {
        "id": "OxY-l9qzSMSR"
      }
    },
    {
      "cell_type": "markdown",
      "source": [
        " For this task, Sentence Transformers were used. They embed the mentioned documents while preserving their meaning. The main idea is that sentences with similar meanings will have similar vector representations and will be closer to each other in vector space compared to those that are different."
      ],
      "metadata": {
        "id": "NuoSiT1XUUV1"
      }
    },
    {
      "cell_type": "markdown",
      "source": [
        "The Sentence Transformer used in this project can be found [here](https://huggingface.co/sentence-transformers/paraphrase-multilingual-MiniLM-L12-v2). It was chosen primarily for its ability to handle multiple languages, including Serbian."
      ],
      "metadata": {
        "id": "y3Oj35g9WAcM"
      }
    },
    {
      "cell_type": "code",
      "execution_count": 14,
      "metadata": {
        "id": "sdVqi9t1ZMqY"
      },
      "outputs": [],
      "source": [
        "from langchain.embeddings import HuggingFaceEmbeddings\n",
        "\n",
        "model_name = 'sentence-transformers/paraphrase-multilingual-MiniLM-L12-v2'\n",
        "\n",
        "embeddings = HuggingFaceEmbeddings(\n",
        "    model_name = model_name,\n",
        "    model_kwargs ={'device':'cuda'},\n",
        "    encode_kwargs = {'normalize_embeddings':True}\n",
        ")"
      ]
    },
    {
      "cell_type": "markdown",
      "metadata": {
        "id": "6G1Pn7xBS_Tq"
      },
      "source": [
        "## **Vector store - Faiss**\n",
        "\n",
        "---\n",
        "\n"
      ]
    },
    {
      "cell_type": "markdown",
      "source": [
        "The created sentence embeddings are stored in a vector store using **FAISS**. In the FAISS vector database, similarity is measured using the L2 Euclidean distance."
      ],
      "metadata": {
        "id": "g2_pxgSuWli-"
      }
    },
    {
      "cell_type": "markdown",
      "source": [
        "The main idea is that when we send a new sentence to the created vector database, which acts as a retriever, it retrieves the 2 most relevant sentences based on the calculated similarity scores. However, the number of retrieved sentences could vary depending on the context."
      ],
      "metadata": {
        "id": "lcb1E6Nkag_l"
      }
    },
    {
      "cell_type": "code",
      "execution_count": 15,
      "metadata": {
        "id": "acTKXCYbZfha"
      },
      "outputs": [],
      "source": [
        "from langchain.vectorstores import FAISS\n",
        "\n",
        "vector_db = FAISS.from_documents(document_chunks, embeddings)"
      ]
    },
    {
      "cell_type": "code",
      "execution_count": 16,
      "metadata": {
        "id": "bnxa8BpGZijE"
      },
      "outputs": [],
      "source": [
        "# retriever = vector_db.as_retriever(\n",
        "#     search_type=\"similarity\",\n",
        "#     search_kwargs={\"k\": 2}\n",
        "# )\n",
        "retriever = vector_db.as_retriever(\n",
        "    search_type=\"similarity_score_threshold\",\n",
        "    search_kwargs={\"score_threshold\": 0.5}\n",
        ")"
      ]
    },
    {
      "cell_type": "code",
      "execution_count": 17,
      "metadata": {
        "id": "pw2v9F-sZqU1"
      },
      "outputs": [],
      "source": [
        "def format_print_result(result):\n",
        "  formatted = []\n",
        "  for doc in result:\n",
        "    formatted.append(doc.page_content)\n",
        "\n",
        "  for doc in formatted:\n",
        "    print(doc,'\\n\\n')"
      ]
    },
    {
      "cell_type": "markdown",
      "source": [
        "For the query 'Starenje in vivo', the most relevant sentences that were retrieved are shown below."
      ],
      "metadata": {
        "id": "EuVU475bbNlS"
      }
    },
    {
      "cell_type": "code",
      "execution_count": 18,
      "metadata": {
        "colab": {
          "base_uri": "https://localhost:8080/"
        },
        "id": "RFuQLX4vZq3o",
        "outputId": "dacfd98f-f169-48aa-c1b7-553509ffd1ec"
      },
      "outputs": [
        {
          "output_type": "stream",
          "name": "stdout",
          "text": [
            "Ključne reči: starenje – karakteristike, uzroci, teorije, odlaganje \n",
            "\n",
            "\n",
            "Kratak sadržaj \n",
            "Starenje je neizbežno i kako zastupljenost starih osoba u populaciji raste, \n",
            "razumevanje fizioloških mehanizama uklju čenih u proces normalnog starenja ima sve \n",
            "\n",
            "\n",
            "heterogenost stare populacije i kompleksnos t fizioloških procesa, teško može da \n",
            "se povuče jasna vremenska granica po četka starosti (1). Starenje zapo činje u \n",
            "nepoznatom periodu života zrele osobe i progresivno se odvija na razli čit način \n",
            "\n",
            "\n",
            "Key words: aging – traits, causes, theories, delaying \n",
            "\n",
            "\n"
          ]
        }
      ],
      "source": [
        "result = retriever.invoke('Starenje in vivo')\n",
        "format_print_result(result)"
      ]
    },
    {
      "cell_type": "markdown",
      "source": [
        "Testing retrival for a query that is not present in biology documents."
      ],
      "metadata": {
        "id": "1jLngInpuVfA"
      }
    },
    {
      "cell_type": "code",
      "source": [
        "format_print_result(retriever.invoke('Šta je sunce?'))"
      ],
      "metadata": {
        "id": "FYScE6-UuSQO"
      },
      "execution_count": 19,
      "outputs": []
    },
    {
      "cell_type": "markdown",
      "metadata": {
        "id": "29jicXG5ap8B"
      },
      "source": [
        "## **Prompting**\n",
        "\n",
        "---\n",
        "\n"
      ]
    },
    {
      "cell_type": "markdown",
      "source": [
        "In the prompt below, we instruct the LLM to generate a response based only on the context that it was provided with for the asked question. The context is retrieved from the created vector store.\n",
        "<p> Commented prompts were tested, but ultimately, the first one yielded the best results."
      ],
      "metadata": {
        "id": "pjEvNT6ccVtF"
      }
    },
    {
      "cell_type": "code",
      "execution_count": 20,
      "metadata": {
        "id": "jyvr9281Zs1F"
      },
      "outputs": [],
      "source": [
        "prompt_template = \"\"\"\n",
        "<s> [INST] Sigurno, korisno i smisleno odgovori na postavljeno pitanje isključivo na osnovu konteksta.\n",
        "Ako imaš bilo kakav kontekst, odgovori na osnovu tog konteksta.\n",
        "Ako nešto ne znaš, jednostavno reci Ne znam.\n",
        "Ako je rečenica u pitanju nedovršena, završi je na osnovu konteksta ili svog znanja.\n",
        "[/INST]\n",
        "Kontekst: {context}\n",
        "Pitanje: {question}\n",
        "</s>\n",
        " \"\"\"\n",
        "\n",
        "# prompt_template = \"\"\"\n",
        "# <s> [INST] Sigurno i korisno odgovaraj na postavljeno pitanje isključivo na osnovu konteksta.\n",
        "# Ako nešto ne znaš, jednostavno reci da ne znaš.\n",
        "# [/INST]\n",
        "# Kontekst: {context}\n",
        "# Pitanje: {question}\n",
        "# </s>\n",
        "#  \"\"\"\n",
        "\n",
        "\n",
        "# prompt_template = \"\"\"\n",
        "# <s> [INST] Sigurno i korisno odgovaraj na postavljeno pitanje isključivo na osnovu konteksta.\n",
        "# Ako nemaš kontekst, jednostavno reci da ne znaš.\n",
        "# [/INST]\n",
        "# Kontekst: {context}\n",
        "# Pitanje: {question}\n",
        "# </s>\n",
        "# \"\"\"\n",
        "\n",
        "# prompt_template = \"\"\"\n",
        "# <s> [INST] Please respond in Serbian language to the question based solely on the provided context.\n",
        "# If you have any context, respond only based on that context.\n",
        "# If you don't have context, simply respond with \"Ne znam odgovor na ovo pitanje\".\n",
        "# Only respond to questions in Serbian laguage.\n",
        "# If question is not in Serbian language, respond with \"Molim te postavi pitanje na srpskom jeziku\".\n",
        "# Always respond in Serbian language.\n",
        "# [/INST]\n",
        "# Kontekst: {context}\n",
        "# Pitanje: {question}\n",
        "# </s>\n",
        "# \"\"\"\n",
        "\n",
        "# prompt_template = \"\"\"\n",
        "# <s> [INST] Molim te da odgovoriš na pitanje na srpskom jeziku isključivo na osnovu pruženog konteksta.\n",
        "# Ako nemaš kontekst, jednostavno odgovori sa \"Ne znam\".\n",
        "# Ako imaš kontekst, odgovori samo na osnovu tog konteksta.\n",
        "# Odgovaraj samo na pitanja na srpskom jeziku.\n",
        "# Uvek odgovaraj na srpskom jeziku.\n",
        "# [/INST]\n",
        "# Kontekst: {context}\n",
        "# Pitanje: {question}\n",
        "# </s>\n",
        "# \"\"\"\n",
        "\n",
        "# prompt_template = \"\"\"\n",
        "# <s> [INST] Sigurno i korisno odgovaraj na postavljeno pitanje isključivo na osnovu konteksta.\n",
        "# Ako nisi dobio kontekst, jednostavno reci da ne znaš.\n",
        "# Ako je kontekst prazan, jednostavno reci da ne znaš.\n",
        "# Ako pitanje nije na srpskom, reci da postavi pitanje na srpskom jeziku.\n",
        "# Ako pitanje nije o biologiji, reci da postavi pitanje o biologiji.\n",
        "# Ako nemaš kontekst, ne odgovaraj na osnovu svojih saznanja.\n",
        "# [/INST]\n",
        "# Kontekst: {context}\n",
        "# Pitanje: {question}\n",
        "# </s>\n",
        "# \"\"\"\n",
        "\n",
        "# prompt_template = \"\"\"\n",
        "# <s> [INST] Please respond to the question based solely on the provided context. Only respond in Serbian language.\n",
        "# If you don't have context, simply say \"Ne znam, izvini\"\n",
        "# If the question is not in Serbian, say \"Postavi pitanje na srpskom jeziku\".\n",
        "# If the question is not about biology, say \"Postavi pitanje o biologiji\".\n",
        "# If you don't have context, don't respond based on your knowledge.\n",
        "# [/INST]\n",
        "# Kontekst: {context}\n",
        "# Pitanje: {question}\n",
        "# </s>\n",
        "\n",
        "# \"\"\""
      ]
    },
    {
      "cell_type": "code",
      "execution_count": 21,
      "metadata": {
        "id": "o6byA4UeepkX"
      },
      "outputs": [],
      "source": [
        "from langchain.prompts import PromptTemplate\n",
        "\n",
        "prompt = PromptTemplate(\n",
        "    input_variables=[\"context\", \"question\"],\n",
        "    template=prompt_template,\n",
        ")"
      ]
    },
    {
      "cell_type": "markdown",
      "metadata": {
        "id": "qfMmfJVkfxJR"
      },
      "source": [
        "## **RAG chain**\n",
        "\n",
        "---\n",
        "\n"
      ]
    },
    {
      "cell_type": "markdown",
      "source": [
        " The flow is as follows:\n",
        "*   We pass the query to the vector database to find the most similar documents\n",
        "*   The retrieved context, along with the question, goes to the LLM to generate the response"
      ],
      "metadata": {
        "id": "3Gp9EpUicq61"
      }
    },
    {
      "cell_type": "code",
      "execution_count": 22,
      "metadata": {
        "id": "EW6eKWjQfidB"
      },
      "outputs": [],
      "source": [
        "from langchain.chains import RetrievalQA\n",
        "\n",
        "rag_chain = RetrievalQA.from_chain_type(llm=mistral_llm,\n",
        "                                         chain_type=\"stuff\",\n",
        "                                         retriever=retriever,\n",
        "                                         return_source_documents=True,\n",
        "                                         chain_type_kwargs={\n",
        "                                             \"prompt\": prompt\n",
        "                                         })"
      ]
    },
    {
      "cell_type": "code",
      "execution_count": 23,
      "metadata": {
        "id": "rppIkTy9jvLV"
      },
      "outputs": [],
      "source": [
        "def wrap_text(text, word_limit):\n",
        "    words = text.split()\n",
        "    wrapped_text = []\n",
        "\n",
        "    for i in range(0, len(words), word_limit):\n",
        "        wrapped_text.append(' '.join(words[i:i+word_limit]))\n",
        "\n",
        "    return '\\n'.join(wrapped_text)"
      ]
    },
    {
      "cell_type": "code",
      "execution_count": 24,
      "metadata": {
        "id": "0zaRmbmjiTj1"
      },
      "outputs": [],
      "source": [
        "def print_result(question):\n",
        "  if not retriever.invoke(question):\n",
        "    print('Ne znam kako da ti odgovorim na ovo pitanje :(')\n",
        "\n",
        "  else:\n",
        "\n",
        "    result =rag_chain.invoke(question)\n",
        "    start = result['result'].find(\"Odgovor:\")\n",
        "    response_content = result['result'][start:]\n",
        "    print(\"Pitanje: \",question,'\\n\\n')\n",
        "\n",
        "    response_content = wrap_text(response_content.strip(), 20)\n",
        "    print(response_content)"
      ]
    },
    {
      "cell_type": "code",
      "execution_count": 25,
      "metadata": {
        "colab": {
          "base_uri": "https://localhost:8080/"
        },
        "id": "39SZ0X9ajXn-",
        "outputId": "464288af-bafe-4b29-8133-5c0576a8a7b1"
      },
      "outputs": [
        {
          "output_type": "stream",
          "name": "stdout",
          "text": [
            "Pitanje:  Karakteristike starenja \n",
            "\n",
            "\n",
            "Odgovor: Starenje se manifestuje različitim biološkim promenama koji su povezani sa gubom funkcionalnosti tela. Ovi promeni obuhvataju izmenjene molekularne strukture\n",
            "proteina, DNK i drugih molekula, a mogu da utiču na celularnu senescenciju (staros) i organizamski senescenciju (organizam). Uprkos ovome, postoje\n",
            "i mehanizmi koji deluju protiv starenja, što može da dovede do prodlženja životne dobi.\n"
          ]
        }
      ],
      "source": [
        "question1 = 'Karakteristike starenja'\n",
        "print_result(question1)"
      ]
    },
    {
      "cell_type": "code",
      "execution_count": 26,
      "metadata": {
        "colab": {
          "base_uri": "https://localhost:8080/"
        },
        "id": "fSc2NLoXk7ei",
        "outputId": "67cfecd4-b364-41ab-aa13-b0c1a0fc17cf"
      },
      "outputs": [
        {
          "output_type": "stream",
          "name": "stdout",
          "text": [
            "Pitanje:  Starenje ćelija \n",
            "\n",
            "\n",
            "Odgovor: Uloga ćelijskog starenja i ćelijske smrti u starenju organizama\n"
          ]
        }
      ],
      "source": [
        "question2 = 'Starenje ćelija'\n",
        "print_result(question2)"
      ]
    },
    {
      "cell_type": "markdown",
      "source": [
        "**Retrieved sentences for second query \"Starenje ćelija\"**"
      ],
      "metadata": {
        "id": "SlzDtqLJbXbm"
      }
    },
    {
      "cell_type": "code",
      "source": [
        "res = retriever.invoke(question2)\n",
        "for doc in res:\n",
        "  print(doc.page_content,'\\n\\n')"
      ],
      "metadata": {
        "colab": {
          "base_uri": "https://localhost:8080/"
        },
        "id": "LP74Tlp0aAhE",
        "outputId": "d64c1c4a-3ddc-4fb6-aabb-fc43b9580ce4"
      },
      "execution_count": 27,
      "outputs": [
        {
          "output_type": "stream",
          "name": "stdout",
          "text": [
            "Starenje ćelija \n",
            "Ćelije su osnovne strukturne jedini ce organizma i zato pretpostavka da \n",
            "njihovo starenje i propadanje doprinosi st arenju organizma ima smisla. Prirodno \n",
            "starenje čoveka može da bude rezultat: 1) slabljenja procesa odgovornih za \n",
            "\n",
            "\n",
            "mobilizacijom mati čnih ili prekursorskih  ćelija, ali izgleda da i te ćelije imaju \n",
            "konačni životni vek i u starosti se njihov broj smanjuje. Štaviše, tkivni ili \n",
            "sistemski milje starog organizma doda tno kompromituje mobilizaciju i/ili \n",
            "\n",
            "\n",
            "proliferativnu homeostazu i čak da stimulišu rast mutiranih preneoplasti čnih ili \n",
            "neoplastičnih ćelija.  \n",
            "Uloga ćelijskog starenja i ćelijske smrti u starenju organizma \n",
            "Ćelijska starost i smrt mogu da ig raju ulogu u starenju na dva na čina \n",
            "(36): \n",
            "\n",
            "\n",
            "postoji kao starost ćelija in vivo  i, ako postoji, kakve su posledice prisustva \n",
            "starih ćelija u tkivima i organima.  Za sada nije utvr đena direktna uzro čna veza \n",
            "između starenja ćelija i ćelijske smrti, s jedne strane , i starenja organizma, s \n",
            "\n",
            "\n"
          ]
        }
      ]
    },
    {
      "cell_type": "markdown",
      "source": [
        "**Retrieved sentences for third query \"Šta je telomeraza?\"**"
      ],
      "metadata": {
        "id": "mzRa4SaNbCS1"
      }
    },
    {
      "cell_type": "code",
      "source": [
        "question3 = 'Šta je telomeraza?'\n",
        "print_result(question3)"
      ],
      "metadata": {
        "id": "rUERYMjmoCaa",
        "colab": {
          "base_uri": "https://localhost:8080/"
        },
        "outputId": "8d168532-f721-4f8c-a926-bb91c57b063f"
      },
      "execution_count": 28,
      "outputs": [
        {
          "output_type": "stream",
          "name": "stdout",
          "text": [
            "Pitanje:  Šta je telomeraza? \n",
            "\n",
            "\n",
            "Odgovor: Telomeraza je enzim koji deluje na telomere, što su krajevi molekule DNK koji se nalaze na oba kraja hromozoma.\n",
            "Ova enzima omogucavaju da se telomeri ne kracaju pri svakoj ćelijskoj deljenju, pa time se sprečava gubitak genetičke informacije.\n"
          ]
        }
      ]
    },
    {
      "cell_type": "code",
      "source": [
        "res = retriever.invoke(question3)\n",
        "for doc in res:\n",
        "  print(doc.page_content,'\\n\\n')"
      ],
      "metadata": {
        "colab": {
          "base_uri": "https://localhost:8080/"
        },
        "id": "NR25abQ5a2et",
        "outputId": "d34d6b2c-0b13-46d3-814a-10e6cf8329a4"
      },
      "execution_count": 29,
      "outputs": [
        {
          "output_type": "stream",
          "name": "stdout",
          "text": [
            "da se dele a da se ne ispolji RS zavis na od dužine telomera. Telomeraza je \n",
            "glavni, ali ne i jedini mehanizam koji produžava telomere. \n",
            "Tokom embrionalnog i postnatalnog ži vota ekspresija telomeraze se \n",
            "\n",
            "\n",
            "kraju završava  jednostrukim lancem nukl eotida koji se savija unazad i strukturu \n",
            "koja se zove T-petlja. Direktno ili indire ktno, u vezi sa DNK telomera je veliki \n",
            "broj proteina koji olakšavaju formiranje T-petlji i u čestvuju u funkciji telomera. \n",
            "\n",
            "\n",
            "ciklusa. Pri tome, dužina telomera ima ulogu tzv. mitoti čkog sata ili \n",
            "replikometra koji prati broj  deoba normalnih somatskih ćelija. \n",
            "\n",
            "\n",
            "potpunosti rasvetljen; danas se  uglavnom smatra da skra ćenje telomera indukuje \n",
            "klasični odgovor ćelija na ošte ćenje DNK (24,26). Signali o ošte ćenju DNK \n",
            "potiču iz kratkih telomera, a odgovor zahteva u č\n",
            "ešće nekoliko proteina, od kojih \n",
            "\n",
            "\n"
          ]
        }
      ]
    },
    {
      "cell_type": "markdown",
      "source": [
        "We can observe that the model **used the retrieved documents to generate a response** while also incorporating its own knowledge to synthesize the information."
      ],
      "metadata": {
        "id": "rgpqnqnQb35V"
      }
    },
    {
      "cell_type": "code",
      "source": [
        "question4 = 'How are you?'\n",
        "print_result(question4)"
      ],
      "metadata": {
        "colab": {
          "base_uri": "https://localhost:8080/"
        },
        "id": "zg8ujaM1qzYe",
        "outputId": "4889793e-7dda-44c8-97f5-361e8bc4eebf"
      },
      "execution_count": 30,
      "outputs": [
        {
          "output_type": "stream",
          "name": "stdout",
          "text": [
            "Ne znam kako da ti odgovorim na ovo pitanje :(\n"
          ]
        }
      ]
    },
    {
      "cell_type": "code",
      "source": [
        "question5 = 'Šta je sunce?'\n",
        "print_result(question5)"
      ],
      "metadata": {
        "colab": {
          "base_uri": "https://localhost:8080/"
        },
        "id": "UpjEz89GgKFg",
        "outputId": "0577102e-511d-4bb9-8184-0eb1fead994d"
      },
      "execution_count": 31,
      "outputs": [
        {
          "output_type": "stream",
          "name": "stdout",
          "text": [
            "Ne znam kako da ti odgovorim na ovo pitanje :(\n"
          ]
        }
      ]
    },
    {
      "cell_type": "code",
      "source": [
        "retriever.invoke(question4)"
      ],
      "metadata": {
        "colab": {
          "base_uri": "https://localhost:8080/"
        },
        "id": "_dwYQu-_xCzl",
        "outputId": "7fcdb194-e992-4d2c-8fc8-e4b899d55755"
      },
      "execution_count": 32,
      "outputs": [
        {
          "output_type": "execute_result",
          "data": {
            "text/plain": [
              "[]"
            ]
          },
          "metadata": {},
          "execution_count": 32
        }
      ]
    },
    {
      "cell_type": "code",
      "source": [
        "retriever.invoke(question5)"
      ],
      "metadata": {
        "colab": {
          "base_uri": "https://localhost:8080/"
        },
        "id": "w39I4wLmc71T",
        "outputId": "3bb9e788-edb3-4018-980d-8b0225e0e3a8"
      },
      "execution_count": 33,
      "outputs": [
        {
          "output_type": "execute_result",
          "data": {
            "text/plain": [
              "[]"
            ]
          },
          "metadata": {},
          "execution_count": 33
        }
      ]
    },
    {
      "cell_type": "markdown",
      "source": [
        "The fourth and fifth questions are not in the externally added knowledge base, so nothing relevant was retrieved for them.\n",
        "<p>Therefore, they were not passed to the LLM because the point of this project is to showcase how we can enhance the LLM with new knowledge it didn't already have, not its ability to answer questions on its own.</p>"
      ],
      "metadata": {
        "id": "HDnnUw-Oc_l-"
      }
    },
    {
      "cell_type": "markdown",
      "source": [
        "## Conclusion for this version of Mistral 7B"
      ],
      "metadata": {
        "id": "LtzDe69USfpD"
      }
    },
    {
      "cell_type": "markdown",
      "source": [
        "There were two main challenges:\n",
        "\n",
        "\n",
        "1.   Preventing the LLM from responding to questions not in Serbian language\n",
        "2.   Ensuring it relied on an external knowledge base, specifically a biology PDF\n",
        "\n",
        "In attempting to resolve the issue, I first tried creating a clear prompt to guide the LLM's behavior. However, after multiple attempts, I couldn't find one that addressed all the problems effectively. Additionally, I aimed to minimize GPU usage unless absolutely necessary.\n",
        "<p>\n",
        "Hence, I chose a different approach. Initially, I modified the retriever to retrieve documents above a certain threshold. Before passing the query and context to the LLM for generating a response, I verified if there were relevant documents in the database (retriever). If no document was relevant to the passed query, none would have a similarity score above the threshold, resulting in an empty context. Therefore, I refrained from passing it to the LLM since it was unnecessary. Conversely, if relevant documents were found, I would pass them along with the query to the LLM for further processing. </p>\n"
      ],
      "metadata": {
        "id": "m3pMXMEuSlm8"
      }
    },
    {
      "cell_type": "markdown",
      "source": [
        "# Comparison to Llama LLM"
      ],
      "metadata": {
        "id": "SPboxM6laUsj"
      }
    },
    {
      "cell_type": "markdown",
      "source": [
        "**Authentication**\n",
        "\n",
        "---\n",
        "\n"
      ],
      "metadata": {
        "id": "tsRY9Z8PSJ4K"
      }
    },
    {
      "cell_type": "code",
      "source": [
        "from huggingface_hub import login\n",
        "login()"
      ],
      "metadata": {
        "colab": {
          "base_uri": "https://localhost:8080/",
          "height": 145,
          "referenced_widgets": [
            "4c3e8e1d675f4fbd8b181f8341fd52f7",
            "ff5cadc0241243a78a3e46d822617fea",
            "4a12cdbb6d0f451f9304500592e8e18d",
            "f093932bdac845329c125c9e6342d0c2",
            "7e1e00a7e04549db9331aa3c443fd760",
            "a917a703f0e8469898aecd2c8e0445dd",
            "81304682180140dbba5550e62b2bd480",
            "7bc89818ebf74950acae1ecb435102e3",
            "4dcca4c8463f4d54aa8ce2bfc04d123a",
            "14f1badaff7c4f66a5fdcb79770b39f2",
            "bbffbe6f2f3742678980cbb8621a720f",
            "5d9f1c3a62d4471397ec50e0ec3bfd38",
            "722bcab2188d40e3bd561646ad46eb9f",
            "9b80247b2f984d0d94bf9b465df595b0",
            "2004d0e23ebb4becac47fdb0f6a21a5c",
            "2665ce027819407d9b610bdac4b1ffd1",
            "a20bf30e3d3b4ff6bf8c694da53ad447",
            "a1680ef2d1b344c3905963f9118db04b",
            "458ef42ce72c4f428117f71b1449a267",
            "9789f70e31a548d3a83e1a26dcc251ec",
            "493af9f8a9e04892aafa7230c1a7ff66",
            "d42b56c01f484b2d9bf1e59fc5f06098",
            "dbe04740511e4bcea1dd89cd7ac1f10c",
            "ff00f542c347403bbe13cb13ff11821a",
            "ef9dbdd8d80d4bc69eabce443170fdf3",
            "c488cc12e2c64e9e8bac330610790531",
            "eb31d9a7cf4347faa07dc9e46ae2a0c7",
            "dd590c981fd64a5a81a0155471a69cf4",
            "748e13b7e74f4b55a11757f6fa87c5f7",
            "84deb78404f949399eb57f17ea09705e",
            "68a015daf5a948d9a6a5167b3f6362af",
            "8666d2c2b1f04de983e40c2828c18990"
          ]
        },
        "id": "z0DRmEaatWHt",
        "outputId": "37d00c0d-ec7e-4946-cacb-0896f348e682"
      },
      "execution_count": 34,
      "outputs": [
        {
          "output_type": "display_data",
          "data": {
            "text/plain": [
              "VBox(children=(HTML(value='<center> <img\\nsrc=https://huggingface.co/front/assets/huggingface_logo-noborder.sv…"
            ],
            "application/vnd.jupyter.widget-view+json": {
              "version_major": 2,
              "version_minor": 0,
              "model_id": "4c3e8e1d675f4fbd8b181f8341fd52f7"
            }
          },
          "metadata": {}
        }
      ]
    },
    {
      "cell_type": "markdown",
      "source": [
        "**Model and adequate tokenizer**\n",
        "\n",
        "---\n",
        "\n"
      ],
      "metadata": {
        "id": "Nhj2PKiaa_YY"
      }
    },
    {
      "cell_type": "markdown",
      "source": [
        "For a fair comparison, the **same retriever** is used in both models."
      ],
      "metadata": {
        "id": "YVUJMJA5d_OA"
      }
    },
    {
      "cell_type": "code",
      "source": [
        "from transformers import AutoTokenizer, AutoModelForCausalLM\n",
        "import transformers\n",
        "\n",
        "model_id = \"meta-llama/Llama-2-7b-chat-hf\"\n",
        "\n",
        "tokenizer = AutoTokenizer.from_pretrained(model_id)\n",
        "model = AutoModelForCausalLM.from_pretrained(\n",
        "    model_id,\n",
        "    device_map=\"cuda\",\n",
        "    quantization_config=nf4_config\n",
        ")"
      ],
      "metadata": {
        "colab": {
          "base_uri": "https://localhost:8080/",
          "height": 49,
          "referenced_widgets": [
            "fb80c848d674427dba0bfd0088025764",
            "4716fbb47a5740239d353151c771dab3",
            "a0780bef68284625ac36f38f84df86a7",
            "90fb825c981a4369a7ca477d35e5b385",
            "a2ce1181dc20495f953e3dee9142ea01",
            "7975c046973e40a5a9d4900cf8f77460",
            "44fad416de6d43d89783d8438dcc9c07",
            "8bc9ed0dfaf74c3c9a207c79cadf0ce4",
            "a29a6d2c82114db88df0d65b77f56f07",
            "5a2fb795a3794011bb87138deb91f851",
            "bc38400e9bf74115b74298dc6ee8ca2a"
          ]
        },
        "id": "MZ4-mFwpaz0J",
        "outputId": "1f32aca2-5801-4ba8-aa5e-e50081bf580f"
      },
      "execution_count": 35,
      "outputs": [
        {
          "output_type": "display_data",
          "data": {
            "text/plain": [
              "Loading checkpoint shards:   0%|          | 0/2 [00:00<?, ?it/s]"
            ],
            "application/vnd.jupyter.widget-view+json": {
              "version_major": 2,
              "version_minor": 0,
              "model_id": "fb80c848d674427dba0bfd0088025764"
            }
          },
          "metadata": {}
        }
      ]
    },
    {
      "cell_type": "code",
      "source": [
        "hf_llama_pipe = pipeline(task=\"text-generation\",\n",
        "                   model=model,\n",
        "                   tokenizer= tokenizer,\n",
        "                   return_full_text=True,\n",
        "                   temperature=0.1,\n",
        "                   max_new_tokens = 512,\n",
        "                   repetition_penalty=1.2,\n",
        "                   num_return_sequences=1\n",
        "                )\n",
        "\n",
        "llama_llm = HuggingFacePipeline(pipeline = hf_llama_pipe)"
      ],
      "metadata": {
        "id": "EeeDsGlCc-2v"
      },
      "execution_count": 36,
      "outputs": []
    },
    {
      "cell_type": "code",
      "source": [
        "system_message = \"\"\"\n",
        "You are a helpful, respectful, and honest assistant.\n",
        "Always answer as helpfully as possible, while ensuring safety.\n",
        "Your answers should be based only on the context provided.\n",
        "Do not include any harmful, unethical, racist, sexist, toxic, dangerous, or illegal content in your responses.\n",
        "Please ensure that your responses are socially unbiased and positive in nature.\n",
        "If a question does not make any sense, is not factually coherent, or the context does not provide enough information to answer it, just respond with \"Ne znam odgovor na ovo pitanje :(\".\n",
        "Always answer in Serbian.\n",
        "\"\"\""
      ],
      "metadata": {
        "id": "fY3VCrXtdU8b"
      },
      "execution_count": 37,
      "outputs": []
    },
    {
      "cell_type": "code",
      "source": [
        "user_message = \"\"\"\n",
        "CONTEXT:/n/n {context}/n\n",
        "\n",
        "Question: {question}\n",
        "\"\"\""
      ],
      "metadata": {
        "id": "aWjnCsrkdYzv"
      },
      "execution_count": 38,
      "outputs": []
    },
    {
      "cell_type": "markdown",
      "source": [
        "Llama expects a different prompt format than Mistral, and it is crucial to pass the prompt to the LLM in the format it was trained on.\n",
        "<p>Otherwise, it won't generate an adequate response."
      ],
      "metadata": {
        "id": "Rdza9xANdfkP"
      }
    },
    {
      "cell_type": "code",
      "source": [
        "llama_prompt_format = f\"<s>[INST] <<SYS>>\\n{system_message}\\n<</SYS>>\\n{user_message} [/INST]\""
      ],
      "metadata": {
        "id": "rVXnpsFndKPC"
      },
      "execution_count": 39,
      "outputs": []
    },
    {
      "cell_type": "code",
      "source": [
        "llama_prompt = PromptTemplate(\n",
        "    template= llama_prompt_format,\n",
        "    input_variables=[\"context\", \"question\"]\n",
        ")"
      ],
      "metadata": {
        "id": "755IIP23ddp2"
      },
      "execution_count": 40,
      "outputs": []
    },
    {
      "cell_type": "code",
      "source": [
        "llama_qa_chain = RetrievalQA.from_chain_type(llm=llama_llm,\n",
        "                                         chain_type=\"stuff\",\n",
        "                                         retriever=retriever,\n",
        "                                         return_source_documents=True,\n",
        "                                         chain_type_kwargs={\n",
        "                                             \"prompt\": llama_prompt\n",
        "                                         })"
      ],
      "metadata": {
        "id": "DxjYfGHwdi5g"
      },
      "execution_count": 41,
      "outputs": []
    },
    {
      "cell_type": "code",
      "source": [
        "q1_result = llama_qa_chain.invoke(question1)"
      ],
      "metadata": {
        "id": "aXRqeKjRds0P"
      },
      "execution_count": 42,
      "outputs": []
    },
    {
      "cell_type": "code",
      "source": [
        "q1_result.keys()"
      ],
      "metadata": {
        "colab": {
          "base_uri": "https://localhost:8080/"
        },
        "id": "9VhO6p4qetaC",
        "outputId": "f443031c-1561-432e-ec26-76a807f63670"
      },
      "execution_count": 43,
      "outputs": [
        {
          "output_type": "execute_result",
          "data": {
            "text/plain": [
              "dict_keys(['query', 'result', 'source_documents'])"
            ]
          },
          "metadata": {},
          "execution_count": 43
        }
      ]
    },
    {
      "cell_type": "code",
      "source": [
        "def return_llama_response(qa_chain, query):\n",
        "  q1_result = qa_chain.invoke(query)\n",
        "  index = q1_result['result'].find('[/INST]') + len('[/INST]')\n",
        "\n",
        "  result = wrap_text(q1_result['result'][index:].strip(), 50)\n",
        "  print(result)"
      ],
      "metadata": {
        "id": "S0YLHIuGifuk"
      },
      "execution_count": 44,
      "outputs": []
    },
    {
      "cell_type": "code",
      "source": [
        "question1"
      ],
      "metadata": {
        "colab": {
          "base_uri": "https://localhost:8080/",
          "height": 35
        },
        "id": "56Esrw9DdpiL",
        "outputId": "6d2e3920-80dd-49b8-e0ea-7921ffc3a2a8"
      },
      "execution_count": 45,
      "outputs": [
        {
          "output_type": "execute_result",
          "data": {
            "text/plain": [
              "'Karakteristike starenja'"
            ],
            "application/vnd.google.colaboratory.intrinsic+json": {
              "type": "string"
            }
          },
          "metadata": {},
          "execution_count": 45
        }
      ]
    },
    {
      "cell_type": "code",
      "source": [
        "return_llama_response(llama_qa_chain, question1)"
      ],
      "metadata": {
        "colab": {
          "base_uri": "https://localhost:8080/"
        },
        "id": "CPvKpq03iwgK",
        "outputId": "e1a62cfe-7894-4e18-9ffc-72a6d7919d66"
      },
      "execution_count": 46,
      "outputs": [
        {
          "output_type": "stream",
          "name": "stdout",
          "text": [
            "Ne znam odgovor na ovo pitanje :(\n"
          ]
        }
      ]
    },
    {
      "cell_type": "code",
      "source": [
        "question3"
      ],
      "metadata": {
        "colab": {
          "base_uri": "https://localhost:8080/",
          "height": 35
        },
        "id": "IRo_uQDXkH2n",
        "outputId": "bbc61b1e-5ad3-46a3-cbe8-a7df3ee700aa"
      },
      "execution_count": 47,
      "outputs": [
        {
          "output_type": "execute_result",
          "data": {
            "text/plain": [
              "'Šta je telomeraza?'"
            ],
            "application/vnd.google.colaboratory.intrinsic+json": {
              "type": "string"
            }
          },
          "metadata": {},
          "execution_count": 47
        }
      ]
    },
    {
      "cell_type": "code",
      "source": [
        "res = retriever.invoke(question3)\n",
        "for doc in res:\n",
        "  print(doc.page_content,'\\n\\n')"
      ],
      "metadata": {
        "colab": {
          "base_uri": "https://localhost:8080/"
        },
        "id": "lGZr_3cte2w9",
        "outputId": "c31b8c17-5754-4af8-8974-026ef50d6700"
      },
      "execution_count": 48,
      "outputs": [
        {
          "output_type": "stream",
          "name": "stdout",
          "text": [
            "da se dele a da se ne ispolji RS zavis na od dužine telomera. Telomeraza je \n",
            "glavni, ali ne i jedini mehanizam koji produžava telomere. \n",
            "Tokom embrionalnog i postnatalnog ži vota ekspresija telomeraze se \n",
            "\n",
            "\n",
            "kraju završava  jednostrukim lancem nukl eotida koji se savija unazad i strukturu \n",
            "koja se zove T-petlja. Direktno ili indire ktno, u vezi sa DNK telomera je veliki \n",
            "broj proteina koji olakšavaju formiranje T-petlji i u čestvuju u funkciji telomera. \n",
            "\n",
            "\n",
            "ciklusa. Pri tome, dužina telomera ima ulogu tzv. mitoti čkog sata ili \n",
            "replikometra koji prati broj  deoba normalnih somatskih ćelija. \n",
            "\n",
            "\n",
            "potpunosti rasvetljen; danas se  uglavnom smatra da skra ćenje telomera indukuje \n",
            "klasični odgovor ćelija na ošte ćenje DNK (24,26). Signali o ošte ćenju DNK \n",
            "potiču iz kratkih telomera, a odgovor zahteva u č\n",
            "ešće nekoliko proteina, od kojih \n",
            "\n",
            "\n"
          ]
        }
      ]
    },
    {
      "cell_type": "code",
      "source": [
        "return_llama_response(llama_qa_chain, question3)"
      ],
      "metadata": {
        "colab": {
          "base_uri": "https://localhost:8080/"
        },
        "id": "Hz0c1TCakKgO",
        "outputId": "1f2a5d49-ce1e-4fd0-f94c-e375173b88b3"
      },
      "execution_count": 49,
      "outputs": [
        {
          "output_type": "stream",
          "name": "stdout",
          "text": [
            "Ne znam odgovor na ovo pitanje :(. The context you provided does not give enough information for me to accurately answer your question about telomerase. Can you please provide more details or clarify what you would like to know about telomerase?\n"
          ]
        }
      ]
    },
    {
      "cell_type": "markdown",
      "source": [
        "With Llama, the retrieval part works relatively well, but the generative aspect falls short.\n",
        "<p>The main reason for this is that it is not trained on Serbian literature and, therefore, lacks the ability to generate appropriate responses in Serbian.\n"
      ],
      "metadata": {
        "id": "Wr6y41R9fa4S"
      }
    },
    {
      "cell_type": "markdown",
      "source": [
        "#### Prompt in Serbian language with Llama"
      ],
      "metadata": {
        "id": "J8F0rtu5fori"
      }
    },
    {
      "cell_type": "markdown",
      "source": [
        "Finally, I tested Llama with prompts in the Serbian language to see if the accuracy would improve."
      ],
      "metadata": {
        "id": "06fRbVPTf4Pd"
      }
    },
    {
      "cell_type": "code",
      "source": [
        "system_message2 = \"\"\"\n",
        "Vi ste uslužan, pun poštovanja i pošten asistent.\n",
        "Uvek odgovarajte što je moguće korisnije, pridržavajući se datog konteksta.\n",
        "Nemojte uključivati nikakav štetan, neetički, rasistički, seksistički, toksičan, opasan ili nezakonit sadržaj u svoje odgovore.\n",
        "Uverite se da su vaši odgovori društveno nepristrasni i pozitivne prirode.\n",
        "Ako pitanje nema smisla, nije činjenično koherentno ili kontekst ne pruža dovoljno informacija za odgovor, odgovorite sa „Ne znam odgovor na ovo pitanje :(“.\n",
        "Uvek odgovarajte na srpskom jeziku.\n",
        "\"\"\""
      ],
      "metadata": {
        "id": "GlECzRjaf6-j"
      },
      "execution_count": 50,
      "outputs": []
    },
    {
      "cell_type": "code",
      "source": [
        "user_message2 = \"\"\"\n",
        "Kontekst:/n/n {context}/n\n",
        "\n",
        "Pitanje: {question}\n",
        "\"\"\""
      ],
      "metadata": {
        "id": "CnEjRcQMf-D8"
      },
      "execution_count": 51,
      "outputs": []
    },
    {
      "cell_type": "code",
      "source": [
        "llama_prompt_format = f\"<s>[INST] <<SYS>>\\n{system_message2}\\n<</SYS>>\\n{user_message2} [/INST]\""
      ],
      "metadata": {
        "id": "r0sakvytgAl2"
      },
      "execution_count": 52,
      "outputs": []
    },
    {
      "cell_type": "code",
      "source": [
        "llama_prompt2 = PromptTemplate(\n",
        "    template= llama_prompt_format,\n",
        "    input_variables=[\"context\", \"question\"]\n",
        ")"
      ],
      "metadata": {
        "id": "vDh2drDegFuW"
      },
      "execution_count": 53,
      "outputs": []
    },
    {
      "cell_type": "code",
      "source": [
        "llama_qa_chain2 = RetrievalQA.from_chain_type(llm=llama_llm,\n",
        "                                         chain_type=\"stuff\",\n",
        "                                         retriever=retriever,\n",
        "                                         return_source_documents=True,\n",
        "                                         chain_type_kwargs={\n",
        "                                             \"prompt\": llama_prompt2\n",
        "                                         })"
      ],
      "metadata": {
        "id": "aS9uvh8jgKOu"
      },
      "execution_count": 54,
      "outputs": []
    },
    {
      "cell_type": "code",
      "source": [
        "question1"
      ],
      "metadata": {
        "colab": {
          "base_uri": "https://localhost:8080/",
          "height": 35
        },
        "id": "mcU71GgpgRhb",
        "outputId": "bf906012-9eac-45b9-9bfc-3b216a1e1e52"
      },
      "execution_count": 55,
      "outputs": [
        {
          "output_type": "execute_result",
          "data": {
            "text/plain": [
              "'Karakteristike starenja'"
            ],
            "application/vnd.google.colaboratory.intrinsic+json": {
              "type": "string"
            }
          },
          "metadata": {},
          "execution_count": 55
        }
      ]
    },
    {
      "cell_type": "code",
      "source": [
        "return_llama_response(llama_qa_chain2, question1)"
      ],
      "metadata": {
        "colab": {
          "base_uri": "https://localhost:8080/"
        },
        "id": "Zo2M5dZhgTC9",
        "outputId": "6a1cf0d6-2d1a-45c4-f7f9-0edd521846b8"
      },
      "execution_count": 56,
      "outputs": [
        {
          "output_type": "stream",
          "name": "stdout",
          "text": [
            "Ne znam odgovor na ovo pitanje :(. The topic of aging is a complex and multifaceted one, and there are many different characteristics, causes, theories, and delays involved in the process. To provide a comprehensive answer would require a detailed examination of the various physiological mechanisms that contribute to aging,\n",
            "as well as an analysis of the social and cultural factors that influence the aging process. Additionally, there are many different perspectives on what constitutes \"normal\" aging, and how it should be defined and measured. Therefore, I cannot provide a simple or definitive answer to this question without further context\n",
            "or information.\n"
          ]
        }
      ]
    },
    {
      "cell_type": "code",
      "source": [
        "question2"
      ],
      "metadata": {
        "colab": {
          "base_uri": "https://localhost:8080/",
          "height": 35
        },
        "id": "Y5DRc8auhC4U",
        "outputId": "0fe3113a-3d60-41d7-925e-ff0f431863f5"
      },
      "execution_count": 57,
      "outputs": [
        {
          "output_type": "execute_result",
          "data": {
            "text/plain": [
              "'Starenje ćelija'"
            ],
            "application/vnd.google.colaboratory.intrinsic+json": {
              "type": "string"
            }
          },
          "metadata": {},
          "execution_count": 57
        }
      ]
    },
    {
      "cell_type": "code",
      "source": [
        "return_llama_response(llama_qa_chain2, question2)"
      ],
      "metadata": {
        "colab": {
          "base_uri": "https://localhost:8080/"
        },
        "id": "2VxYqn2shE8L",
        "outputId": "e8e5c7dc-0342-49d7-e1a2-29a5ffc49982"
      },
      "execution_count": 58,
      "outputs": [
        {
          "output_type": "stream",
          "name": "stdout",
          "text": [
            "Ne znam odgovor na ovo pitanje :(\n"
          ]
        }
      ]
    },
    {
      "cell_type": "code",
      "source": [
        "question3"
      ],
      "metadata": {
        "colab": {
          "base_uri": "https://localhost:8080/",
          "height": 35
        },
        "id": "gWnOCrAPg1Vo",
        "outputId": "5b497ccc-35b9-4ef8-b4ce-b55f42b275f7"
      },
      "execution_count": 59,
      "outputs": [
        {
          "output_type": "execute_result",
          "data": {
            "text/plain": [
              "'Šta je telomeraza?'"
            ],
            "application/vnd.google.colaboratory.intrinsic+json": {
              "type": "string"
            }
          },
          "metadata": {},
          "execution_count": 59
        }
      ]
    },
    {
      "cell_type": "code",
      "source": [
        "return_llama_response(llama_qa_chain2, question3)"
      ],
      "metadata": {
        "colab": {
          "base_uri": "https://localhost:8080/"
        },
        "id": "7cjAr98Rg0B_",
        "outputId": "e2d24831-490b-4cc4-b0a0-913efab2df24"
      },
      "execution_count": 60,
      "outputs": [
        {
          "output_type": "stream",
          "name": "stdout",
          "text": [
            "Telomeraza je glavni, ali ne i samo mehanizam koji produžava telomere. Tokom embrijske i posmatalske Životnosti, ekspresija telomeraze se kraju završava jednostruким lancom nukleotida koji se savija unazad i forma structure zove T-petlja. U vezi sa DNA telomera je veliki broj proteinova koji omogućavaju formiranje T-petlji i učešću u funkciji\n",
            "telomera. Oni direktno или indirectno, u vezi sa DNA telomera igraju ulogu u formiranju T-petlji i sudjeluju u funkciji telomera. Dužina telomera ima ulogu tzv. mitotic clock or replicometer which tracks the number of normal somatic cells in a population. The length of telomeres has been shown to be related\n",
            "to the aging process and various diseases, including cancer and cardiovascular disease.\n"
          ]
        }
      ]
    },
    {
      "cell_type": "markdown",
      "source": [
        "The generative aspect improves a bit when the prompt is in Serbian, but the difference is not significant.\n",
        "<p> Llama only provided a valid response in Serbian for one question (\"Šta je telomeraza\") out of the ones I tested, while for all others, it didn't generate a valid response.\n",
        "\n",
        "\n",
        "\n",
        "\n",
        "\n",
        "\n",
        "\n",
        "\n",
        "\n"
      ],
      "metadata": {
        "id": "5uXU8iLGhTlY"
      }
    },
    {
      "cell_type": "markdown",
      "source": [
        "## The **first** model seems to be the better choice overall.\n",
        "Based on the testing questions used in this project, the first model (fine-tuned Mistral 7B) consistently provided more accurate responses, making it the preferred option for this task.\n",
        "\n",
        "\n",
        "\n"
      ],
      "metadata": {
        "id": "7wvsGmMliQ3_"
      }
    }
  ],
  "metadata": {
    "accelerator": "GPU",
    "colab": {
      "gpuType": "T4",
      "provenance": []
    },
    "kernelspec": {
      "display_name": "Python 3",
      "name": "python3"
    },
    "language_info": {
      "name": "python"
    },
    "widgets": {
      "application/vnd.jupyter.widget-state+json": {
        "c3f4807791de4c4b8fc46a70eec03217": {
          "model_module": "@jupyter-widgets/controls",
          "model_name": "HBoxModel",
          "model_module_version": "1.5.0",
          "state": {
            "_dom_classes": [],
            "_model_module": "@jupyter-widgets/controls",
            "_model_module_version": "1.5.0",
            "_model_name": "HBoxModel",
            "_view_count": null,
            "_view_module": "@jupyter-widgets/controls",
            "_view_module_version": "1.5.0",
            "_view_name": "HBoxView",
            "box_style": "",
            "children": [
              "IPY_MODEL_08a0868655b24619ac87e03421fc4583",
              "IPY_MODEL_79d06861ee40445f8f8eef9bee05da5f",
              "IPY_MODEL_20ce845550064d2eb3abceb95f27041b"
            ],
            "layout": "IPY_MODEL_304525a4767543aba7d8c2f67fa7b3c6"
          }
        },
        "08a0868655b24619ac87e03421fc4583": {
          "model_module": "@jupyter-widgets/controls",
          "model_name": "HTMLModel",
          "model_module_version": "1.5.0",
          "state": {
            "_dom_classes": [],
            "_model_module": "@jupyter-widgets/controls",
            "_model_module_version": "1.5.0",
            "_model_name": "HTMLModel",
            "_view_count": null,
            "_view_module": "@jupyter-widgets/controls",
            "_view_module_version": "1.5.0",
            "_view_name": "HTMLView",
            "description": "",
            "description_tooltip": null,
            "layout": "IPY_MODEL_0edba938a68f477ebf47cb2dc05aa548",
            "placeholder": "​",
            "style": "IPY_MODEL_51816a490ab8442896935b545da06d00",
            "value": "Loading checkpoint shards: 100%"
          }
        },
        "79d06861ee40445f8f8eef9bee05da5f": {
          "model_module": "@jupyter-widgets/controls",
          "model_name": "FloatProgressModel",
          "model_module_version": "1.5.0",
          "state": {
            "_dom_classes": [],
            "_model_module": "@jupyter-widgets/controls",
            "_model_module_version": "1.5.0",
            "_model_name": "FloatProgressModel",
            "_view_count": null,
            "_view_module": "@jupyter-widgets/controls",
            "_view_module_version": "1.5.0",
            "_view_name": "ProgressView",
            "bar_style": "success",
            "description": "",
            "description_tooltip": null,
            "layout": "IPY_MODEL_083833bbf85f4a18a21dbe2806a754c0",
            "max": 3,
            "min": 0,
            "orientation": "horizontal",
            "style": "IPY_MODEL_ca3ba9422ee24bc39c26525e71ff53eb",
            "value": 3
          }
        },
        "20ce845550064d2eb3abceb95f27041b": {
          "model_module": "@jupyter-widgets/controls",
          "model_name": "HTMLModel",
          "model_module_version": "1.5.0",
          "state": {
            "_dom_classes": [],
            "_model_module": "@jupyter-widgets/controls",
            "_model_module_version": "1.5.0",
            "_model_name": "HTMLModel",
            "_view_count": null,
            "_view_module": "@jupyter-widgets/controls",
            "_view_module_version": "1.5.0",
            "_view_name": "HTMLView",
            "description": "",
            "description_tooltip": null,
            "layout": "IPY_MODEL_42a0f0c6990c45f5be92c8ea2e8dff2a",
            "placeholder": "​",
            "style": "IPY_MODEL_e92331235d90408cbd060070b93bdd01",
            "value": " 3/3 [01:23&lt;00:00, 27.37s/it]"
          }
        },
        "304525a4767543aba7d8c2f67fa7b3c6": {
          "model_module": "@jupyter-widgets/base",
          "model_name": "LayoutModel",
          "model_module_version": "1.2.0",
          "state": {
            "_model_module": "@jupyter-widgets/base",
            "_model_module_version": "1.2.0",
            "_model_name": "LayoutModel",
            "_view_count": null,
            "_view_module": "@jupyter-widgets/base",
            "_view_module_version": "1.2.0",
            "_view_name": "LayoutView",
            "align_content": null,
            "align_items": null,
            "align_self": null,
            "border": null,
            "bottom": null,
            "display": null,
            "flex": null,
            "flex_flow": null,
            "grid_area": null,
            "grid_auto_columns": null,
            "grid_auto_flow": null,
            "grid_auto_rows": null,
            "grid_column": null,
            "grid_gap": null,
            "grid_row": null,
            "grid_template_areas": null,
            "grid_template_columns": null,
            "grid_template_rows": null,
            "height": null,
            "justify_content": null,
            "justify_items": null,
            "left": null,
            "margin": null,
            "max_height": null,
            "max_width": null,
            "min_height": null,
            "min_width": null,
            "object_fit": null,
            "object_position": null,
            "order": null,
            "overflow": null,
            "overflow_x": null,
            "overflow_y": null,
            "padding": null,
            "right": null,
            "top": null,
            "visibility": null,
            "width": null
          }
        },
        "0edba938a68f477ebf47cb2dc05aa548": {
          "model_module": "@jupyter-widgets/base",
          "model_name": "LayoutModel",
          "model_module_version": "1.2.0",
          "state": {
            "_model_module": "@jupyter-widgets/base",
            "_model_module_version": "1.2.0",
            "_model_name": "LayoutModel",
            "_view_count": null,
            "_view_module": "@jupyter-widgets/base",
            "_view_module_version": "1.2.0",
            "_view_name": "LayoutView",
            "align_content": null,
            "align_items": null,
            "align_self": null,
            "border": null,
            "bottom": null,
            "display": null,
            "flex": null,
            "flex_flow": null,
            "grid_area": null,
            "grid_auto_columns": null,
            "grid_auto_flow": null,
            "grid_auto_rows": null,
            "grid_column": null,
            "grid_gap": null,
            "grid_row": null,
            "grid_template_areas": null,
            "grid_template_columns": null,
            "grid_template_rows": null,
            "height": null,
            "justify_content": null,
            "justify_items": null,
            "left": null,
            "margin": null,
            "max_height": null,
            "max_width": null,
            "min_height": null,
            "min_width": null,
            "object_fit": null,
            "object_position": null,
            "order": null,
            "overflow": null,
            "overflow_x": null,
            "overflow_y": null,
            "padding": null,
            "right": null,
            "top": null,
            "visibility": null,
            "width": null
          }
        },
        "51816a490ab8442896935b545da06d00": {
          "model_module": "@jupyter-widgets/controls",
          "model_name": "DescriptionStyleModel",
          "model_module_version": "1.5.0",
          "state": {
            "_model_module": "@jupyter-widgets/controls",
            "_model_module_version": "1.5.0",
            "_model_name": "DescriptionStyleModel",
            "_view_count": null,
            "_view_module": "@jupyter-widgets/base",
            "_view_module_version": "1.2.0",
            "_view_name": "StyleView",
            "description_width": ""
          }
        },
        "083833bbf85f4a18a21dbe2806a754c0": {
          "model_module": "@jupyter-widgets/base",
          "model_name": "LayoutModel",
          "model_module_version": "1.2.0",
          "state": {
            "_model_module": "@jupyter-widgets/base",
            "_model_module_version": "1.2.0",
            "_model_name": "LayoutModel",
            "_view_count": null,
            "_view_module": "@jupyter-widgets/base",
            "_view_module_version": "1.2.0",
            "_view_name": "LayoutView",
            "align_content": null,
            "align_items": null,
            "align_self": null,
            "border": null,
            "bottom": null,
            "display": null,
            "flex": null,
            "flex_flow": null,
            "grid_area": null,
            "grid_auto_columns": null,
            "grid_auto_flow": null,
            "grid_auto_rows": null,
            "grid_column": null,
            "grid_gap": null,
            "grid_row": null,
            "grid_template_areas": null,
            "grid_template_columns": null,
            "grid_template_rows": null,
            "height": null,
            "justify_content": null,
            "justify_items": null,
            "left": null,
            "margin": null,
            "max_height": null,
            "max_width": null,
            "min_height": null,
            "min_width": null,
            "object_fit": null,
            "object_position": null,
            "order": null,
            "overflow": null,
            "overflow_x": null,
            "overflow_y": null,
            "padding": null,
            "right": null,
            "top": null,
            "visibility": null,
            "width": null
          }
        },
        "ca3ba9422ee24bc39c26525e71ff53eb": {
          "model_module": "@jupyter-widgets/controls",
          "model_name": "ProgressStyleModel",
          "model_module_version": "1.5.0",
          "state": {
            "_model_module": "@jupyter-widgets/controls",
            "_model_module_version": "1.5.0",
            "_model_name": "ProgressStyleModel",
            "_view_count": null,
            "_view_module": "@jupyter-widgets/base",
            "_view_module_version": "1.2.0",
            "_view_name": "StyleView",
            "bar_color": null,
            "description_width": ""
          }
        },
        "42a0f0c6990c45f5be92c8ea2e8dff2a": {
          "model_module": "@jupyter-widgets/base",
          "model_name": "LayoutModel",
          "model_module_version": "1.2.0",
          "state": {
            "_model_module": "@jupyter-widgets/base",
            "_model_module_version": "1.2.0",
            "_model_name": "LayoutModel",
            "_view_count": null,
            "_view_module": "@jupyter-widgets/base",
            "_view_module_version": "1.2.0",
            "_view_name": "LayoutView",
            "align_content": null,
            "align_items": null,
            "align_self": null,
            "border": null,
            "bottom": null,
            "display": null,
            "flex": null,
            "flex_flow": null,
            "grid_area": null,
            "grid_auto_columns": null,
            "grid_auto_flow": null,
            "grid_auto_rows": null,
            "grid_column": null,
            "grid_gap": null,
            "grid_row": null,
            "grid_template_areas": null,
            "grid_template_columns": null,
            "grid_template_rows": null,
            "height": null,
            "justify_content": null,
            "justify_items": null,
            "left": null,
            "margin": null,
            "max_height": null,
            "max_width": null,
            "min_height": null,
            "min_width": null,
            "object_fit": null,
            "object_position": null,
            "order": null,
            "overflow": null,
            "overflow_x": null,
            "overflow_y": null,
            "padding": null,
            "right": null,
            "top": null,
            "visibility": null,
            "width": null
          }
        },
        "e92331235d90408cbd060070b93bdd01": {
          "model_module": "@jupyter-widgets/controls",
          "model_name": "DescriptionStyleModel",
          "model_module_version": "1.5.0",
          "state": {
            "_model_module": "@jupyter-widgets/controls",
            "_model_module_version": "1.5.0",
            "_model_name": "DescriptionStyleModel",
            "_view_count": null,
            "_view_module": "@jupyter-widgets/base",
            "_view_module_version": "1.2.0",
            "_view_name": "StyleView",
            "description_width": ""
          }
        },
        "4c3e8e1d675f4fbd8b181f8341fd52f7": {
          "model_module": "@jupyter-widgets/controls",
          "model_name": "VBoxModel",
          "model_module_version": "1.5.0",
          "state": {
            "_dom_classes": [],
            "_model_module": "@jupyter-widgets/controls",
            "_model_module_version": "1.5.0",
            "_model_name": "VBoxModel",
            "_view_count": null,
            "_view_module": "@jupyter-widgets/controls",
            "_view_module_version": "1.5.0",
            "_view_name": "VBoxView",
            "box_style": "",
            "children": [
              "IPY_MODEL_493af9f8a9e04892aafa7230c1a7ff66",
              "IPY_MODEL_d42b56c01f484b2d9bf1e59fc5f06098",
              "IPY_MODEL_dbe04740511e4bcea1dd89cd7ac1f10c",
              "IPY_MODEL_ff00f542c347403bbe13cb13ff11821a"
            ],
            "layout": "IPY_MODEL_81304682180140dbba5550e62b2bd480"
          }
        },
        "ff5cadc0241243a78a3e46d822617fea": {
          "model_module": "@jupyter-widgets/controls",
          "model_name": "HTMLModel",
          "model_module_version": "1.5.0",
          "state": {
            "_dom_classes": [],
            "_model_module": "@jupyter-widgets/controls",
            "_model_module_version": "1.5.0",
            "_model_name": "HTMLModel",
            "_view_count": null,
            "_view_module": "@jupyter-widgets/controls",
            "_view_module_version": "1.5.0",
            "_view_name": "HTMLView",
            "description": "",
            "description_tooltip": null,
            "layout": "IPY_MODEL_7bc89818ebf74950acae1ecb435102e3",
            "placeholder": "​",
            "style": "IPY_MODEL_4dcca4c8463f4d54aa8ce2bfc04d123a",
            "value": "<center> <img\nsrc=https://huggingface.co/front/assets/huggingface_logo-noborder.svg\nalt='Hugging Face'> <br> Copy a token from <a\nhref=\"https://huggingface.co/settings/tokens\" target=\"_blank\">your Hugging Face\ntokens page</a> and paste it below. <br> Immediately click login after copying\nyour token or it might be stored in plain text in this notebook file. </center>"
          }
        },
        "4a12cdbb6d0f451f9304500592e8e18d": {
          "model_module": "@jupyter-widgets/controls",
          "model_name": "PasswordModel",
          "model_module_version": "1.5.0",
          "state": {
            "_dom_classes": [],
            "_model_module": "@jupyter-widgets/controls",
            "_model_module_version": "1.5.0",
            "_model_name": "PasswordModel",
            "_view_count": null,
            "_view_module": "@jupyter-widgets/controls",
            "_view_module_version": "1.5.0",
            "_view_name": "PasswordView",
            "continuous_update": true,
            "description": "Token:",
            "description_tooltip": null,
            "disabled": false,
            "layout": "IPY_MODEL_14f1badaff7c4f66a5fdcb79770b39f2",
            "placeholder": "​",
            "style": "IPY_MODEL_bbffbe6f2f3742678980cbb8621a720f",
            "value": ""
          }
        },
        "f093932bdac845329c125c9e6342d0c2": {
          "model_module": "@jupyter-widgets/controls",
          "model_name": "CheckboxModel",
          "model_module_version": "1.5.0",
          "state": {
            "_dom_classes": [],
            "_model_module": "@jupyter-widgets/controls",
            "_model_module_version": "1.5.0",
            "_model_name": "CheckboxModel",
            "_view_count": null,
            "_view_module": "@jupyter-widgets/controls",
            "_view_module_version": "1.5.0",
            "_view_name": "CheckboxView",
            "description": "Add token as git credential?",
            "description_tooltip": null,
            "disabled": false,
            "indent": true,
            "layout": "IPY_MODEL_5d9f1c3a62d4471397ec50e0ec3bfd38",
            "style": "IPY_MODEL_722bcab2188d40e3bd561646ad46eb9f",
            "value": true
          }
        },
        "7e1e00a7e04549db9331aa3c443fd760": {
          "model_module": "@jupyter-widgets/controls",
          "model_name": "ButtonModel",
          "model_module_version": "1.5.0",
          "state": {
            "_dom_classes": [],
            "_model_module": "@jupyter-widgets/controls",
            "_model_module_version": "1.5.0",
            "_model_name": "ButtonModel",
            "_view_count": null,
            "_view_module": "@jupyter-widgets/controls",
            "_view_module_version": "1.5.0",
            "_view_name": "ButtonView",
            "button_style": "",
            "description": "Login",
            "disabled": false,
            "icon": "",
            "layout": "IPY_MODEL_9b80247b2f984d0d94bf9b465df595b0",
            "style": "IPY_MODEL_2004d0e23ebb4becac47fdb0f6a21a5c",
            "tooltip": ""
          }
        },
        "a917a703f0e8469898aecd2c8e0445dd": {
          "model_module": "@jupyter-widgets/controls",
          "model_name": "HTMLModel",
          "model_module_version": "1.5.0",
          "state": {
            "_dom_classes": [],
            "_model_module": "@jupyter-widgets/controls",
            "_model_module_version": "1.5.0",
            "_model_name": "HTMLModel",
            "_view_count": null,
            "_view_module": "@jupyter-widgets/controls",
            "_view_module_version": "1.5.0",
            "_view_name": "HTMLView",
            "description": "",
            "description_tooltip": null,
            "layout": "IPY_MODEL_2665ce027819407d9b610bdac4b1ffd1",
            "placeholder": "​",
            "style": "IPY_MODEL_a20bf30e3d3b4ff6bf8c694da53ad447",
            "value": "\n<b>Pro Tip:</b> If you don't already have one, you can create a dedicated\n'notebooks' token with 'write' access, that you can then easily reuse for all\nnotebooks. </center>"
          }
        },
        "81304682180140dbba5550e62b2bd480": {
          "model_module": "@jupyter-widgets/base",
          "model_name": "LayoutModel",
          "model_module_version": "1.2.0",
          "state": {
            "_model_module": "@jupyter-widgets/base",
            "_model_module_version": "1.2.0",
            "_model_name": "LayoutModel",
            "_view_count": null,
            "_view_module": "@jupyter-widgets/base",
            "_view_module_version": "1.2.0",
            "_view_name": "LayoutView",
            "align_content": null,
            "align_items": "center",
            "align_self": null,
            "border": null,
            "bottom": null,
            "display": "flex",
            "flex": null,
            "flex_flow": "column",
            "grid_area": null,
            "grid_auto_columns": null,
            "grid_auto_flow": null,
            "grid_auto_rows": null,
            "grid_column": null,
            "grid_gap": null,
            "grid_row": null,
            "grid_template_areas": null,
            "grid_template_columns": null,
            "grid_template_rows": null,
            "height": null,
            "justify_content": null,
            "justify_items": null,
            "left": null,
            "margin": null,
            "max_height": null,
            "max_width": null,
            "min_height": null,
            "min_width": null,
            "object_fit": null,
            "object_position": null,
            "order": null,
            "overflow": null,
            "overflow_x": null,
            "overflow_y": null,
            "padding": null,
            "right": null,
            "top": null,
            "visibility": null,
            "width": "50%"
          }
        },
        "7bc89818ebf74950acae1ecb435102e3": {
          "model_module": "@jupyter-widgets/base",
          "model_name": "LayoutModel",
          "model_module_version": "1.2.0",
          "state": {
            "_model_module": "@jupyter-widgets/base",
            "_model_module_version": "1.2.0",
            "_model_name": "LayoutModel",
            "_view_count": null,
            "_view_module": "@jupyter-widgets/base",
            "_view_module_version": "1.2.0",
            "_view_name": "LayoutView",
            "align_content": null,
            "align_items": null,
            "align_self": null,
            "border": null,
            "bottom": null,
            "display": null,
            "flex": null,
            "flex_flow": null,
            "grid_area": null,
            "grid_auto_columns": null,
            "grid_auto_flow": null,
            "grid_auto_rows": null,
            "grid_column": null,
            "grid_gap": null,
            "grid_row": null,
            "grid_template_areas": null,
            "grid_template_columns": null,
            "grid_template_rows": null,
            "height": null,
            "justify_content": null,
            "justify_items": null,
            "left": null,
            "margin": null,
            "max_height": null,
            "max_width": null,
            "min_height": null,
            "min_width": null,
            "object_fit": null,
            "object_position": null,
            "order": null,
            "overflow": null,
            "overflow_x": null,
            "overflow_y": null,
            "padding": null,
            "right": null,
            "top": null,
            "visibility": null,
            "width": null
          }
        },
        "4dcca4c8463f4d54aa8ce2bfc04d123a": {
          "model_module": "@jupyter-widgets/controls",
          "model_name": "DescriptionStyleModel",
          "model_module_version": "1.5.0",
          "state": {
            "_model_module": "@jupyter-widgets/controls",
            "_model_module_version": "1.5.0",
            "_model_name": "DescriptionStyleModel",
            "_view_count": null,
            "_view_module": "@jupyter-widgets/base",
            "_view_module_version": "1.2.0",
            "_view_name": "StyleView",
            "description_width": ""
          }
        },
        "14f1badaff7c4f66a5fdcb79770b39f2": {
          "model_module": "@jupyter-widgets/base",
          "model_name": "LayoutModel",
          "model_module_version": "1.2.0",
          "state": {
            "_model_module": "@jupyter-widgets/base",
            "_model_module_version": "1.2.0",
            "_model_name": "LayoutModel",
            "_view_count": null,
            "_view_module": "@jupyter-widgets/base",
            "_view_module_version": "1.2.0",
            "_view_name": "LayoutView",
            "align_content": null,
            "align_items": null,
            "align_self": null,
            "border": null,
            "bottom": null,
            "display": null,
            "flex": null,
            "flex_flow": null,
            "grid_area": null,
            "grid_auto_columns": null,
            "grid_auto_flow": null,
            "grid_auto_rows": null,
            "grid_column": null,
            "grid_gap": null,
            "grid_row": null,
            "grid_template_areas": null,
            "grid_template_columns": null,
            "grid_template_rows": null,
            "height": null,
            "justify_content": null,
            "justify_items": null,
            "left": null,
            "margin": null,
            "max_height": null,
            "max_width": null,
            "min_height": null,
            "min_width": null,
            "object_fit": null,
            "object_position": null,
            "order": null,
            "overflow": null,
            "overflow_x": null,
            "overflow_y": null,
            "padding": null,
            "right": null,
            "top": null,
            "visibility": null,
            "width": null
          }
        },
        "bbffbe6f2f3742678980cbb8621a720f": {
          "model_module": "@jupyter-widgets/controls",
          "model_name": "DescriptionStyleModel",
          "model_module_version": "1.5.0",
          "state": {
            "_model_module": "@jupyter-widgets/controls",
            "_model_module_version": "1.5.0",
            "_model_name": "DescriptionStyleModel",
            "_view_count": null,
            "_view_module": "@jupyter-widgets/base",
            "_view_module_version": "1.2.0",
            "_view_name": "StyleView",
            "description_width": ""
          }
        },
        "5d9f1c3a62d4471397ec50e0ec3bfd38": {
          "model_module": "@jupyter-widgets/base",
          "model_name": "LayoutModel",
          "model_module_version": "1.2.0",
          "state": {
            "_model_module": "@jupyter-widgets/base",
            "_model_module_version": "1.2.0",
            "_model_name": "LayoutModel",
            "_view_count": null,
            "_view_module": "@jupyter-widgets/base",
            "_view_module_version": "1.2.0",
            "_view_name": "LayoutView",
            "align_content": null,
            "align_items": null,
            "align_self": null,
            "border": null,
            "bottom": null,
            "display": null,
            "flex": null,
            "flex_flow": null,
            "grid_area": null,
            "grid_auto_columns": null,
            "grid_auto_flow": null,
            "grid_auto_rows": null,
            "grid_column": null,
            "grid_gap": null,
            "grid_row": null,
            "grid_template_areas": null,
            "grid_template_columns": null,
            "grid_template_rows": null,
            "height": null,
            "justify_content": null,
            "justify_items": null,
            "left": null,
            "margin": null,
            "max_height": null,
            "max_width": null,
            "min_height": null,
            "min_width": null,
            "object_fit": null,
            "object_position": null,
            "order": null,
            "overflow": null,
            "overflow_x": null,
            "overflow_y": null,
            "padding": null,
            "right": null,
            "top": null,
            "visibility": null,
            "width": null
          }
        },
        "722bcab2188d40e3bd561646ad46eb9f": {
          "model_module": "@jupyter-widgets/controls",
          "model_name": "DescriptionStyleModel",
          "model_module_version": "1.5.0",
          "state": {
            "_model_module": "@jupyter-widgets/controls",
            "_model_module_version": "1.5.0",
            "_model_name": "DescriptionStyleModel",
            "_view_count": null,
            "_view_module": "@jupyter-widgets/base",
            "_view_module_version": "1.2.0",
            "_view_name": "StyleView",
            "description_width": ""
          }
        },
        "9b80247b2f984d0d94bf9b465df595b0": {
          "model_module": "@jupyter-widgets/base",
          "model_name": "LayoutModel",
          "model_module_version": "1.2.0",
          "state": {
            "_model_module": "@jupyter-widgets/base",
            "_model_module_version": "1.2.0",
            "_model_name": "LayoutModel",
            "_view_count": null,
            "_view_module": "@jupyter-widgets/base",
            "_view_module_version": "1.2.0",
            "_view_name": "LayoutView",
            "align_content": null,
            "align_items": null,
            "align_self": null,
            "border": null,
            "bottom": null,
            "display": null,
            "flex": null,
            "flex_flow": null,
            "grid_area": null,
            "grid_auto_columns": null,
            "grid_auto_flow": null,
            "grid_auto_rows": null,
            "grid_column": null,
            "grid_gap": null,
            "grid_row": null,
            "grid_template_areas": null,
            "grid_template_columns": null,
            "grid_template_rows": null,
            "height": null,
            "justify_content": null,
            "justify_items": null,
            "left": null,
            "margin": null,
            "max_height": null,
            "max_width": null,
            "min_height": null,
            "min_width": null,
            "object_fit": null,
            "object_position": null,
            "order": null,
            "overflow": null,
            "overflow_x": null,
            "overflow_y": null,
            "padding": null,
            "right": null,
            "top": null,
            "visibility": null,
            "width": null
          }
        },
        "2004d0e23ebb4becac47fdb0f6a21a5c": {
          "model_module": "@jupyter-widgets/controls",
          "model_name": "ButtonStyleModel",
          "model_module_version": "1.5.0",
          "state": {
            "_model_module": "@jupyter-widgets/controls",
            "_model_module_version": "1.5.0",
            "_model_name": "ButtonStyleModel",
            "_view_count": null,
            "_view_module": "@jupyter-widgets/base",
            "_view_module_version": "1.2.0",
            "_view_name": "StyleView",
            "button_color": null,
            "font_weight": ""
          }
        },
        "2665ce027819407d9b610bdac4b1ffd1": {
          "model_module": "@jupyter-widgets/base",
          "model_name": "LayoutModel",
          "model_module_version": "1.2.0",
          "state": {
            "_model_module": "@jupyter-widgets/base",
            "_model_module_version": "1.2.0",
            "_model_name": "LayoutModel",
            "_view_count": null,
            "_view_module": "@jupyter-widgets/base",
            "_view_module_version": "1.2.0",
            "_view_name": "LayoutView",
            "align_content": null,
            "align_items": null,
            "align_self": null,
            "border": null,
            "bottom": null,
            "display": null,
            "flex": null,
            "flex_flow": null,
            "grid_area": null,
            "grid_auto_columns": null,
            "grid_auto_flow": null,
            "grid_auto_rows": null,
            "grid_column": null,
            "grid_gap": null,
            "grid_row": null,
            "grid_template_areas": null,
            "grid_template_columns": null,
            "grid_template_rows": null,
            "height": null,
            "justify_content": null,
            "justify_items": null,
            "left": null,
            "margin": null,
            "max_height": null,
            "max_width": null,
            "min_height": null,
            "min_width": null,
            "object_fit": null,
            "object_position": null,
            "order": null,
            "overflow": null,
            "overflow_x": null,
            "overflow_y": null,
            "padding": null,
            "right": null,
            "top": null,
            "visibility": null,
            "width": null
          }
        },
        "a20bf30e3d3b4ff6bf8c694da53ad447": {
          "model_module": "@jupyter-widgets/controls",
          "model_name": "DescriptionStyleModel",
          "model_module_version": "1.5.0",
          "state": {
            "_model_module": "@jupyter-widgets/controls",
            "_model_module_version": "1.5.0",
            "_model_name": "DescriptionStyleModel",
            "_view_count": null,
            "_view_module": "@jupyter-widgets/base",
            "_view_module_version": "1.2.0",
            "_view_name": "StyleView",
            "description_width": ""
          }
        },
        "a1680ef2d1b344c3905963f9118db04b": {
          "model_module": "@jupyter-widgets/controls",
          "model_name": "LabelModel",
          "model_module_version": "1.5.0",
          "state": {
            "_dom_classes": [],
            "_model_module": "@jupyter-widgets/controls",
            "_model_module_version": "1.5.0",
            "_model_name": "LabelModel",
            "_view_count": null,
            "_view_module": "@jupyter-widgets/controls",
            "_view_module_version": "1.5.0",
            "_view_name": "LabelView",
            "description": "",
            "description_tooltip": null,
            "layout": "IPY_MODEL_458ef42ce72c4f428117f71b1449a267",
            "placeholder": "​",
            "style": "IPY_MODEL_9789f70e31a548d3a83e1a26dcc251ec",
            "value": "Connecting..."
          }
        },
        "458ef42ce72c4f428117f71b1449a267": {
          "model_module": "@jupyter-widgets/base",
          "model_name": "LayoutModel",
          "model_module_version": "1.2.0",
          "state": {
            "_model_module": "@jupyter-widgets/base",
            "_model_module_version": "1.2.0",
            "_model_name": "LayoutModel",
            "_view_count": null,
            "_view_module": "@jupyter-widgets/base",
            "_view_module_version": "1.2.0",
            "_view_name": "LayoutView",
            "align_content": null,
            "align_items": null,
            "align_self": null,
            "border": null,
            "bottom": null,
            "display": null,
            "flex": null,
            "flex_flow": null,
            "grid_area": null,
            "grid_auto_columns": null,
            "grid_auto_flow": null,
            "grid_auto_rows": null,
            "grid_column": null,
            "grid_gap": null,
            "grid_row": null,
            "grid_template_areas": null,
            "grid_template_columns": null,
            "grid_template_rows": null,
            "height": null,
            "justify_content": null,
            "justify_items": null,
            "left": null,
            "margin": null,
            "max_height": null,
            "max_width": null,
            "min_height": null,
            "min_width": null,
            "object_fit": null,
            "object_position": null,
            "order": null,
            "overflow": null,
            "overflow_x": null,
            "overflow_y": null,
            "padding": null,
            "right": null,
            "top": null,
            "visibility": null,
            "width": null
          }
        },
        "9789f70e31a548d3a83e1a26dcc251ec": {
          "model_module": "@jupyter-widgets/controls",
          "model_name": "DescriptionStyleModel",
          "model_module_version": "1.5.0",
          "state": {
            "_model_module": "@jupyter-widgets/controls",
            "_model_module_version": "1.5.0",
            "_model_name": "DescriptionStyleModel",
            "_view_count": null,
            "_view_module": "@jupyter-widgets/base",
            "_view_module_version": "1.2.0",
            "_view_name": "StyleView",
            "description_width": ""
          }
        },
        "493af9f8a9e04892aafa7230c1a7ff66": {
          "model_module": "@jupyter-widgets/controls",
          "model_name": "LabelModel",
          "model_module_version": "1.5.0",
          "state": {
            "_dom_classes": [],
            "_model_module": "@jupyter-widgets/controls",
            "_model_module_version": "1.5.0",
            "_model_name": "LabelModel",
            "_view_count": null,
            "_view_module": "@jupyter-widgets/controls",
            "_view_module_version": "1.5.0",
            "_view_name": "LabelView",
            "description": "",
            "description_tooltip": null,
            "layout": "IPY_MODEL_ef9dbdd8d80d4bc69eabce443170fdf3",
            "placeholder": "​",
            "style": "IPY_MODEL_c488cc12e2c64e9e8bac330610790531",
            "value": "Token is valid (permission: write)."
          }
        },
        "d42b56c01f484b2d9bf1e59fc5f06098": {
          "model_module": "@jupyter-widgets/controls",
          "model_name": "LabelModel",
          "model_module_version": "1.5.0",
          "state": {
            "_dom_classes": [],
            "_model_module": "@jupyter-widgets/controls",
            "_model_module_version": "1.5.0",
            "_model_name": "LabelModel",
            "_view_count": null,
            "_view_module": "@jupyter-widgets/controls",
            "_view_module_version": "1.5.0",
            "_view_name": "LabelView",
            "description": "",
            "description_tooltip": null,
            "layout": "IPY_MODEL_eb31d9a7cf4347faa07dc9e46ae2a0c7",
            "placeholder": "​",
            "style": "IPY_MODEL_dd590c981fd64a5a81a0155471a69cf4",
            "value": "Your token has been saved in your configured git credential helpers (store)."
          }
        },
        "dbe04740511e4bcea1dd89cd7ac1f10c": {
          "model_module": "@jupyter-widgets/controls",
          "model_name": "LabelModel",
          "model_module_version": "1.5.0",
          "state": {
            "_dom_classes": [],
            "_model_module": "@jupyter-widgets/controls",
            "_model_module_version": "1.5.0",
            "_model_name": "LabelModel",
            "_view_count": null,
            "_view_module": "@jupyter-widgets/controls",
            "_view_module_version": "1.5.0",
            "_view_name": "LabelView",
            "description": "",
            "description_tooltip": null,
            "layout": "IPY_MODEL_748e13b7e74f4b55a11757f6fa87c5f7",
            "placeholder": "​",
            "style": "IPY_MODEL_84deb78404f949399eb57f17ea09705e",
            "value": "Your token has been saved to /root/.cache/huggingface/token"
          }
        },
        "ff00f542c347403bbe13cb13ff11821a": {
          "model_module": "@jupyter-widgets/controls",
          "model_name": "LabelModel",
          "model_module_version": "1.5.0",
          "state": {
            "_dom_classes": [],
            "_model_module": "@jupyter-widgets/controls",
            "_model_module_version": "1.5.0",
            "_model_name": "LabelModel",
            "_view_count": null,
            "_view_module": "@jupyter-widgets/controls",
            "_view_module_version": "1.5.0",
            "_view_name": "LabelView",
            "description": "",
            "description_tooltip": null,
            "layout": "IPY_MODEL_68a015daf5a948d9a6a5167b3f6362af",
            "placeholder": "​",
            "style": "IPY_MODEL_8666d2c2b1f04de983e40c2828c18990",
            "value": "Login successful"
          }
        },
        "ef9dbdd8d80d4bc69eabce443170fdf3": {
          "model_module": "@jupyter-widgets/base",
          "model_name": "LayoutModel",
          "model_module_version": "1.2.0",
          "state": {
            "_model_module": "@jupyter-widgets/base",
            "_model_module_version": "1.2.0",
            "_model_name": "LayoutModel",
            "_view_count": null,
            "_view_module": "@jupyter-widgets/base",
            "_view_module_version": "1.2.0",
            "_view_name": "LayoutView",
            "align_content": null,
            "align_items": null,
            "align_self": null,
            "border": null,
            "bottom": null,
            "display": null,
            "flex": null,
            "flex_flow": null,
            "grid_area": null,
            "grid_auto_columns": null,
            "grid_auto_flow": null,
            "grid_auto_rows": null,
            "grid_column": null,
            "grid_gap": null,
            "grid_row": null,
            "grid_template_areas": null,
            "grid_template_columns": null,
            "grid_template_rows": null,
            "height": null,
            "justify_content": null,
            "justify_items": null,
            "left": null,
            "margin": null,
            "max_height": null,
            "max_width": null,
            "min_height": null,
            "min_width": null,
            "object_fit": null,
            "object_position": null,
            "order": null,
            "overflow": null,
            "overflow_x": null,
            "overflow_y": null,
            "padding": null,
            "right": null,
            "top": null,
            "visibility": null,
            "width": null
          }
        },
        "c488cc12e2c64e9e8bac330610790531": {
          "model_module": "@jupyter-widgets/controls",
          "model_name": "DescriptionStyleModel",
          "model_module_version": "1.5.0",
          "state": {
            "_model_module": "@jupyter-widgets/controls",
            "_model_module_version": "1.5.0",
            "_model_name": "DescriptionStyleModel",
            "_view_count": null,
            "_view_module": "@jupyter-widgets/base",
            "_view_module_version": "1.2.0",
            "_view_name": "StyleView",
            "description_width": ""
          }
        },
        "eb31d9a7cf4347faa07dc9e46ae2a0c7": {
          "model_module": "@jupyter-widgets/base",
          "model_name": "LayoutModel",
          "model_module_version": "1.2.0",
          "state": {
            "_model_module": "@jupyter-widgets/base",
            "_model_module_version": "1.2.0",
            "_model_name": "LayoutModel",
            "_view_count": null,
            "_view_module": "@jupyter-widgets/base",
            "_view_module_version": "1.2.0",
            "_view_name": "LayoutView",
            "align_content": null,
            "align_items": null,
            "align_self": null,
            "border": null,
            "bottom": null,
            "display": null,
            "flex": null,
            "flex_flow": null,
            "grid_area": null,
            "grid_auto_columns": null,
            "grid_auto_flow": null,
            "grid_auto_rows": null,
            "grid_column": null,
            "grid_gap": null,
            "grid_row": null,
            "grid_template_areas": null,
            "grid_template_columns": null,
            "grid_template_rows": null,
            "height": null,
            "justify_content": null,
            "justify_items": null,
            "left": null,
            "margin": null,
            "max_height": null,
            "max_width": null,
            "min_height": null,
            "min_width": null,
            "object_fit": null,
            "object_position": null,
            "order": null,
            "overflow": null,
            "overflow_x": null,
            "overflow_y": null,
            "padding": null,
            "right": null,
            "top": null,
            "visibility": null,
            "width": null
          }
        },
        "dd590c981fd64a5a81a0155471a69cf4": {
          "model_module": "@jupyter-widgets/controls",
          "model_name": "DescriptionStyleModel",
          "model_module_version": "1.5.0",
          "state": {
            "_model_module": "@jupyter-widgets/controls",
            "_model_module_version": "1.5.0",
            "_model_name": "DescriptionStyleModel",
            "_view_count": null,
            "_view_module": "@jupyter-widgets/base",
            "_view_module_version": "1.2.0",
            "_view_name": "StyleView",
            "description_width": ""
          }
        },
        "748e13b7e74f4b55a11757f6fa87c5f7": {
          "model_module": "@jupyter-widgets/base",
          "model_name": "LayoutModel",
          "model_module_version": "1.2.0",
          "state": {
            "_model_module": "@jupyter-widgets/base",
            "_model_module_version": "1.2.0",
            "_model_name": "LayoutModel",
            "_view_count": null,
            "_view_module": "@jupyter-widgets/base",
            "_view_module_version": "1.2.0",
            "_view_name": "LayoutView",
            "align_content": null,
            "align_items": null,
            "align_self": null,
            "border": null,
            "bottom": null,
            "display": null,
            "flex": null,
            "flex_flow": null,
            "grid_area": null,
            "grid_auto_columns": null,
            "grid_auto_flow": null,
            "grid_auto_rows": null,
            "grid_column": null,
            "grid_gap": null,
            "grid_row": null,
            "grid_template_areas": null,
            "grid_template_columns": null,
            "grid_template_rows": null,
            "height": null,
            "justify_content": null,
            "justify_items": null,
            "left": null,
            "margin": null,
            "max_height": null,
            "max_width": null,
            "min_height": null,
            "min_width": null,
            "object_fit": null,
            "object_position": null,
            "order": null,
            "overflow": null,
            "overflow_x": null,
            "overflow_y": null,
            "padding": null,
            "right": null,
            "top": null,
            "visibility": null,
            "width": null
          }
        },
        "84deb78404f949399eb57f17ea09705e": {
          "model_module": "@jupyter-widgets/controls",
          "model_name": "DescriptionStyleModel",
          "model_module_version": "1.5.0",
          "state": {
            "_model_module": "@jupyter-widgets/controls",
            "_model_module_version": "1.5.0",
            "_model_name": "DescriptionStyleModel",
            "_view_count": null,
            "_view_module": "@jupyter-widgets/base",
            "_view_module_version": "1.2.0",
            "_view_name": "StyleView",
            "description_width": ""
          }
        },
        "68a015daf5a948d9a6a5167b3f6362af": {
          "model_module": "@jupyter-widgets/base",
          "model_name": "LayoutModel",
          "model_module_version": "1.2.0",
          "state": {
            "_model_module": "@jupyter-widgets/base",
            "_model_module_version": "1.2.0",
            "_model_name": "LayoutModel",
            "_view_count": null,
            "_view_module": "@jupyter-widgets/base",
            "_view_module_version": "1.2.0",
            "_view_name": "LayoutView",
            "align_content": null,
            "align_items": null,
            "align_self": null,
            "border": null,
            "bottom": null,
            "display": null,
            "flex": null,
            "flex_flow": null,
            "grid_area": null,
            "grid_auto_columns": null,
            "grid_auto_flow": null,
            "grid_auto_rows": null,
            "grid_column": null,
            "grid_gap": null,
            "grid_row": null,
            "grid_template_areas": null,
            "grid_template_columns": null,
            "grid_template_rows": null,
            "height": null,
            "justify_content": null,
            "justify_items": null,
            "left": null,
            "margin": null,
            "max_height": null,
            "max_width": null,
            "min_height": null,
            "min_width": null,
            "object_fit": null,
            "object_position": null,
            "order": null,
            "overflow": null,
            "overflow_x": null,
            "overflow_y": null,
            "padding": null,
            "right": null,
            "top": null,
            "visibility": null,
            "width": null
          }
        },
        "8666d2c2b1f04de983e40c2828c18990": {
          "model_module": "@jupyter-widgets/controls",
          "model_name": "DescriptionStyleModel",
          "model_module_version": "1.5.0",
          "state": {
            "_model_module": "@jupyter-widgets/controls",
            "_model_module_version": "1.5.0",
            "_model_name": "DescriptionStyleModel",
            "_view_count": null,
            "_view_module": "@jupyter-widgets/base",
            "_view_module_version": "1.2.0",
            "_view_name": "StyleView",
            "description_width": ""
          }
        },
        "fb80c848d674427dba0bfd0088025764": {
          "model_module": "@jupyter-widgets/controls",
          "model_name": "HBoxModel",
          "model_module_version": "1.5.0",
          "state": {
            "_dom_classes": [],
            "_model_module": "@jupyter-widgets/controls",
            "_model_module_version": "1.5.0",
            "_model_name": "HBoxModel",
            "_view_count": null,
            "_view_module": "@jupyter-widgets/controls",
            "_view_module_version": "1.5.0",
            "_view_name": "HBoxView",
            "box_style": "",
            "children": [
              "IPY_MODEL_4716fbb47a5740239d353151c771dab3",
              "IPY_MODEL_a0780bef68284625ac36f38f84df86a7",
              "IPY_MODEL_90fb825c981a4369a7ca477d35e5b385"
            ],
            "layout": "IPY_MODEL_a2ce1181dc20495f953e3dee9142ea01"
          }
        },
        "4716fbb47a5740239d353151c771dab3": {
          "model_module": "@jupyter-widgets/controls",
          "model_name": "HTMLModel",
          "model_module_version": "1.5.0",
          "state": {
            "_dom_classes": [],
            "_model_module": "@jupyter-widgets/controls",
            "_model_module_version": "1.5.0",
            "_model_name": "HTMLModel",
            "_view_count": null,
            "_view_module": "@jupyter-widgets/controls",
            "_view_module_version": "1.5.0",
            "_view_name": "HTMLView",
            "description": "",
            "description_tooltip": null,
            "layout": "IPY_MODEL_7975c046973e40a5a9d4900cf8f77460",
            "placeholder": "​",
            "style": "IPY_MODEL_44fad416de6d43d89783d8438dcc9c07",
            "value": "Loading checkpoint shards: 100%"
          }
        },
        "a0780bef68284625ac36f38f84df86a7": {
          "model_module": "@jupyter-widgets/controls",
          "model_name": "FloatProgressModel",
          "model_module_version": "1.5.0",
          "state": {
            "_dom_classes": [],
            "_model_module": "@jupyter-widgets/controls",
            "_model_module_version": "1.5.0",
            "_model_name": "FloatProgressModel",
            "_view_count": null,
            "_view_module": "@jupyter-widgets/controls",
            "_view_module_version": "1.5.0",
            "_view_name": "ProgressView",
            "bar_style": "success",
            "description": "",
            "description_tooltip": null,
            "layout": "IPY_MODEL_8bc9ed0dfaf74c3c9a207c79cadf0ce4",
            "max": 2,
            "min": 0,
            "orientation": "horizontal",
            "style": "IPY_MODEL_a29a6d2c82114db88df0d65b77f56f07",
            "value": 2
          }
        },
        "90fb825c981a4369a7ca477d35e5b385": {
          "model_module": "@jupyter-widgets/controls",
          "model_name": "HTMLModel",
          "model_module_version": "1.5.0",
          "state": {
            "_dom_classes": [],
            "_model_module": "@jupyter-widgets/controls",
            "_model_module_version": "1.5.0",
            "_model_name": "HTMLModel",
            "_view_count": null,
            "_view_module": "@jupyter-widgets/controls",
            "_view_module_version": "1.5.0",
            "_view_name": "HTMLView",
            "description": "",
            "description_tooltip": null,
            "layout": "IPY_MODEL_5a2fb795a3794011bb87138deb91f851",
            "placeholder": "​",
            "style": "IPY_MODEL_bc38400e9bf74115b74298dc6ee8ca2a",
            "value": " 2/2 [01:11&lt;00:00, 32.65s/it]"
          }
        },
        "a2ce1181dc20495f953e3dee9142ea01": {
          "model_module": "@jupyter-widgets/base",
          "model_name": "LayoutModel",
          "model_module_version": "1.2.0",
          "state": {
            "_model_module": "@jupyter-widgets/base",
            "_model_module_version": "1.2.0",
            "_model_name": "LayoutModel",
            "_view_count": null,
            "_view_module": "@jupyter-widgets/base",
            "_view_module_version": "1.2.0",
            "_view_name": "LayoutView",
            "align_content": null,
            "align_items": null,
            "align_self": null,
            "border": null,
            "bottom": null,
            "display": null,
            "flex": null,
            "flex_flow": null,
            "grid_area": null,
            "grid_auto_columns": null,
            "grid_auto_flow": null,
            "grid_auto_rows": null,
            "grid_column": null,
            "grid_gap": null,
            "grid_row": null,
            "grid_template_areas": null,
            "grid_template_columns": null,
            "grid_template_rows": null,
            "height": null,
            "justify_content": null,
            "justify_items": null,
            "left": null,
            "margin": null,
            "max_height": null,
            "max_width": null,
            "min_height": null,
            "min_width": null,
            "object_fit": null,
            "object_position": null,
            "order": null,
            "overflow": null,
            "overflow_x": null,
            "overflow_y": null,
            "padding": null,
            "right": null,
            "top": null,
            "visibility": null,
            "width": null
          }
        },
        "7975c046973e40a5a9d4900cf8f77460": {
          "model_module": "@jupyter-widgets/base",
          "model_name": "LayoutModel",
          "model_module_version": "1.2.0",
          "state": {
            "_model_module": "@jupyter-widgets/base",
            "_model_module_version": "1.2.0",
            "_model_name": "LayoutModel",
            "_view_count": null,
            "_view_module": "@jupyter-widgets/base",
            "_view_module_version": "1.2.0",
            "_view_name": "LayoutView",
            "align_content": null,
            "align_items": null,
            "align_self": null,
            "border": null,
            "bottom": null,
            "display": null,
            "flex": null,
            "flex_flow": null,
            "grid_area": null,
            "grid_auto_columns": null,
            "grid_auto_flow": null,
            "grid_auto_rows": null,
            "grid_column": null,
            "grid_gap": null,
            "grid_row": null,
            "grid_template_areas": null,
            "grid_template_columns": null,
            "grid_template_rows": null,
            "height": null,
            "justify_content": null,
            "justify_items": null,
            "left": null,
            "margin": null,
            "max_height": null,
            "max_width": null,
            "min_height": null,
            "min_width": null,
            "object_fit": null,
            "object_position": null,
            "order": null,
            "overflow": null,
            "overflow_x": null,
            "overflow_y": null,
            "padding": null,
            "right": null,
            "top": null,
            "visibility": null,
            "width": null
          }
        },
        "44fad416de6d43d89783d8438dcc9c07": {
          "model_module": "@jupyter-widgets/controls",
          "model_name": "DescriptionStyleModel",
          "model_module_version": "1.5.0",
          "state": {
            "_model_module": "@jupyter-widgets/controls",
            "_model_module_version": "1.5.0",
            "_model_name": "DescriptionStyleModel",
            "_view_count": null,
            "_view_module": "@jupyter-widgets/base",
            "_view_module_version": "1.2.0",
            "_view_name": "StyleView",
            "description_width": ""
          }
        },
        "8bc9ed0dfaf74c3c9a207c79cadf0ce4": {
          "model_module": "@jupyter-widgets/base",
          "model_name": "LayoutModel",
          "model_module_version": "1.2.0",
          "state": {
            "_model_module": "@jupyter-widgets/base",
            "_model_module_version": "1.2.0",
            "_model_name": "LayoutModel",
            "_view_count": null,
            "_view_module": "@jupyter-widgets/base",
            "_view_module_version": "1.2.0",
            "_view_name": "LayoutView",
            "align_content": null,
            "align_items": null,
            "align_self": null,
            "border": null,
            "bottom": null,
            "display": null,
            "flex": null,
            "flex_flow": null,
            "grid_area": null,
            "grid_auto_columns": null,
            "grid_auto_flow": null,
            "grid_auto_rows": null,
            "grid_column": null,
            "grid_gap": null,
            "grid_row": null,
            "grid_template_areas": null,
            "grid_template_columns": null,
            "grid_template_rows": null,
            "height": null,
            "justify_content": null,
            "justify_items": null,
            "left": null,
            "margin": null,
            "max_height": null,
            "max_width": null,
            "min_height": null,
            "min_width": null,
            "object_fit": null,
            "object_position": null,
            "order": null,
            "overflow": null,
            "overflow_x": null,
            "overflow_y": null,
            "padding": null,
            "right": null,
            "top": null,
            "visibility": null,
            "width": null
          }
        },
        "a29a6d2c82114db88df0d65b77f56f07": {
          "model_module": "@jupyter-widgets/controls",
          "model_name": "ProgressStyleModel",
          "model_module_version": "1.5.0",
          "state": {
            "_model_module": "@jupyter-widgets/controls",
            "_model_module_version": "1.5.0",
            "_model_name": "ProgressStyleModel",
            "_view_count": null,
            "_view_module": "@jupyter-widgets/base",
            "_view_module_version": "1.2.0",
            "_view_name": "StyleView",
            "bar_color": null,
            "description_width": ""
          }
        },
        "5a2fb795a3794011bb87138deb91f851": {
          "model_module": "@jupyter-widgets/base",
          "model_name": "LayoutModel",
          "model_module_version": "1.2.0",
          "state": {
            "_model_module": "@jupyter-widgets/base",
            "_model_module_version": "1.2.0",
            "_model_name": "LayoutModel",
            "_view_count": null,
            "_view_module": "@jupyter-widgets/base",
            "_view_module_version": "1.2.0",
            "_view_name": "LayoutView",
            "align_content": null,
            "align_items": null,
            "align_self": null,
            "border": null,
            "bottom": null,
            "display": null,
            "flex": null,
            "flex_flow": null,
            "grid_area": null,
            "grid_auto_columns": null,
            "grid_auto_flow": null,
            "grid_auto_rows": null,
            "grid_column": null,
            "grid_gap": null,
            "grid_row": null,
            "grid_template_areas": null,
            "grid_template_columns": null,
            "grid_template_rows": null,
            "height": null,
            "justify_content": null,
            "justify_items": null,
            "left": null,
            "margin": null,
            "max_height": null,
            "max_width": null,
            "min_height": null,
            "min_width": null,
            "object_fit": null,
            "object_position": null,
            "order": null,
            "overflow": null,
            "overflow_x": null,
            "overflow_y": null,
            "padding": null,
            "right": null,
            "top": null,
            "visibility": null,
            "width": null
          }
        },
        "bc38400e9bf74115b74298dc6ee8ca2a": {
          "model_module": "@jupyter-widgets/controls",
          "model_name": "DescriptionStyleModel",
          "model_module_version": "1.5.0",
          "state": {
            "_model_module": "@jupyter-widgets/controls",
            "_model_module_version": "1.5.0",
            "_model_name": "DescriptionStyleModel",
            "_view_count": null,
            "_view_module": "@jupyter-widgets/base",
            "_view_module_version": "1.2.0",
            "_view_name": "StyleView",
            "description_width": ""
          }
        }
      }
    }
  },
  "nbformat": 4,
  "nbformat_minor": 0
}